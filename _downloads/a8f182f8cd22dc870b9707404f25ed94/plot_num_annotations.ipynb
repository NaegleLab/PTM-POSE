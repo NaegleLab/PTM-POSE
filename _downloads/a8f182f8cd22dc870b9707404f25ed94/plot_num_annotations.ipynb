{
  "cells": [
    {
      "cell_type": "markdown",
      "metadata": {},
      "source": [
        "\n# Identifying available PTM-specific annotation information\n\nAs described in Running PTM-POSE section, PTM-POSE provides various options for annotating functional information for PTMs, coming from various databases. However, PTM functional information is inherently sparse, and so most annotations will only provide information on a handful of PTMs. For this reason, it can be useful to probe how many PTMsTo better understand the types of annotations that are available, as well as the number of PTMs that have an annotation of that type. This can be done using the `analyze` function in PTM-POSE.\n\n<div class=\"alert alert-info\"><h4>Note</h4><p>This example shows the annotations with pre-installed gmt files, but you can quickly create additional gmt files for any databases you might like. See the instructions for annotating PTMs for how to do so.</p></div>\n"
      ]
    },
    {
      "cell_type": "code",
      "execution_count": null,
      "metadata": {
        "collapsed": false
      },
      "outputs": [],
      "source": [
        "from ptm_pose import helpers\nfrom ptm_pose.analyze import annotations\nimport matplotlib.pyplot as plt\nimport warnings\nwarnings.filterwarnings(\"ignore\")\n\n# Load spliced ptm data\nspliced_ptms = helpers.load_example_data(spliced_ptms = True)\n\nannotations.plot_available_annotations(spliced_ptms)\nplt.tight_layout()\nplt.show()"
      ]
    },
    {
      "cell_type": "markdown",
      "metadata": {},
      "source": [
        "As you can, see there are only a few PTMs from each annotation that have \navailable information, with the most being 9 PTMs out of the 184 differentially \nincluded sites having been associated with a biological process. While this this \nshould be taken into consideration when analyzing these annotations, we can glean \nsome useful information and identify potentially interesting proteins/sites to dig \ndeeper into. \n\n"
      ]
    }
  ],
  "metadata": {
    "kernelspec": {
      "display_name": "Python 3",
      "language": "python",
      "name": "python3"
    },
    "language_info": {
      "codemirror_mode": {
        "name": "ipython",
        "version": 3
      },
      "file_extension": ".py",
      "mimetype": "text/x-python",
      "name": "python",
      "nbconvert_exporter": "python",
      "pygments_lexer": "ipython3",
      "version": "3.12.8"
    }
  },
  "nbformat": 4,
  "nbformat_minor": 0
}