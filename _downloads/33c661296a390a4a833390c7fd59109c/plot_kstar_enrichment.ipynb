{
  "cells": [
    {
      "cell_type": "markdown",
      "metadata": {},
      "source": [
        "\n# Identify kinases with enriched substrates in differentially included exons, using an adapted version of KSTAR\n\nGiven that phosphorlaiton are one of the most commonly impacted modifications, there is potential for kinases targeting these sites to be indirectly impacted by alternative splicing through changes in the availability of their substrates. While we provide functions for performing enrichment of known kinase substrates from databases like PhosphoSitePlus, RegPhos, and PTMsigDB, these resources are limited by the overall number of validated substrates (<5%). For this purpose, we have adapted a previously developed algorithm called KSTAR (Kinase Substrate to Activity Relationships) for use with spliced PTM data, which harnesses kinase-substrate predictions to expand the overall number of phosphorylation sites that can be used as evidence. This particularly important as you may find many of the spliced PTMs in your dataset are less well studied and may not have any annotated kinases.\n\n<div class=\"alert alert-info\"><h4>Note</h4><p>In order to perform KSTAR analysis, you will first need to download KSTAR networks from the following [figshare](https://figshare.com/articles/dataset/NETWORKS/14944305?file=28768155). Once you have downloaded the networks, all you need is your PTM splicing data and the directory location of the networks to run the analysis.</p></div>\n"
      ]
    },
    {
      "cell_type": "code",
      "execution_count": null,
      "metadata": {
        "collapsed": false
      },
      "outputs": [],
      "source": [
        "from ptm_pose import helpers\nfrom ptm_pose.analyze import enzyme\n\n\n#load example differential inclusion data\nspliced_ptms = helpers.load_example_data(spliced_ptms = True)\n\n#perform kstar enrichment for tyrosine phosphorylation, denoted by \"Y\"\nnetwork_dir = '../../Gallery/NetworKIN/'\nkstar_enrichment = enzyme.kstar_enrichment(spliced_ptms, network_dir = network_dir, phospho_type = 'Y')\nkstar_enrichment.run_kstar_enrichment()\nkstar_enrichment.return_enriched_kinases()"
      ]
    },
    {
      "cell_type": "markdown",
      "metadata": {},
      "source": [
        "You can also run the same analysis for serine/threonine kinases:\n\n"
      ]
    },
    {
      "cell_type": "code",
      "execution_count": null,
      "metadata": {
        "collapsed": false
      },
      "outputs": [],
      "source": [
        "kstar_enrichment = enzyme.kstar_enrichment(spliced_ptms, network_dir = network_dir, phospho_type = 'ST')\nkstar_enrichment.run_kstar_enrichment()\nkstar_enrichment.return_enriched_kinases()"
      ]
    }
  ],
  "metadata": {
    "kernelspec": {
      "display_name": "Python 3",
      "language": "python",
      "name": "python3"
    },
    "language_info": {
      "codemirror_mode": {
        "name": "ipython",
        "version": 3
      },
      "file_extension": ".py",
      "mimetype": "text/x-python",
      "name": "python",
      "nbconvert_exporter": "python",
      "pygments_lexer": "ipython3",
      "version": "3.12.8"
    }
  },
  "nbformat": 4,
  "nbformat_minor": 0
}