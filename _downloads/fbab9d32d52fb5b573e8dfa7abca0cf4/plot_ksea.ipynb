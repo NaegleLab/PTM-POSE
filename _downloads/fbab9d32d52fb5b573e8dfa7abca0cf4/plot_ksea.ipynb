{
  "cells": [
    {
      "cell_type": "markdown",
      "metadata": {},
      "source": [
        "\n# Kinase substrate enrichment analysis (KSEA)\n\nIn the realm of kinase activity analysis, Kinase Substrate Enrichment Analysis (KSEA) is a commonly used tool to identify kinases with substrates that are significantly changing between two conditions (based on phosphoproteomic data). See the publication [here](https://academic.oup.com/bioinformatics/article/33/21/3489/3892392)  for what the original algorithm looks like. We have adapted KSEA for use with splicing data, which uses the dPSI values to calculate a z-score to identify kinases with substrates that are either excluded or included from isoforms. This is a useful tool, but you should treat these results with caution as they will often be on only a couple kinase-substrates due to the limited kinase-substrate information available. First, let's load the example data and run KSEA on the differentially included PTMs dataframe\n"
      ]
    },
    {
      "cell_type": "code",
      "execution_count": null,
      "metadata": {
        "collapsed": false
      },
      "outputs": [],
      "source": [
        "from ptm_pose import helpers\nfrom ptm_pose.analyze import enzyme\n\nspliced_ptms = helpers.load_example_data(spliced_ptms=True)"
      ]
    },
    {
      "cell_type": "markdown",
      "metadata": {},
      "source": [
        "Now we can establish the KSEA class from the enzyme module. We will need to specify the database we want to use for KSEA analysis. This can be individual databases (PhosphoSitePlus, RegPhos, DEPOD, OmniPath, or iKiP) or the combined database (Combined). Note that some of these databases are specific to modification classes (e.g. PhosphoSitePlus is specific to phosphorylation). For this example, let's start with PhosphoSitePlus, a commonly used database for kinase-substrate relationships.\n\n"
      ]
    },
    {
      "cell_type": "code",
      "execution_count": null,
      "metadata": {
        "collapsed": false
      },
      "outputs": [],
      "source": [
        "ksea = enzyme.KSEA(spliced_ptms, database = 'PhosphoSitePlus')\n#run KSEA for all available kinases\nksea.runKSEA()"
      ]
    },
    {
      "cell_type": "markdown",
      "metadata": {},
      "source": [
        "Now we can visualize the results. The `plot_results()` function will plot the z-scores for each kinase, as well as whether that was found to be significant (based on FDR). You can optionally include notations indicating how many substrates were identified in the splicing data for each kinase.\n\n"
      ]
    },
    {
      "cell_type": "code",
      "execution_count": null,
      "metadata": {
        "collapsed": false
      },
      "outputs": [],
      "source": [
        "ksea.plot_results(show_substrate_count = True)"
      ]
    }
  ],
  "metadata": {
    "kernelspec": {
      "display_name": "Python 3",
      "language": "python",
      "name": "python3"
    },
    "language_info": {
      "codemirror_mode": {
        "name": "ipython",
        "version": 3
      },
      "file_extension": ".py",
      "mimetype": "text/x-python",
      "name": "python",
      "nbconvert_exporter": "python",
      "pygments_lexer": "ipython3",
      "version": "3.12.11"
    }
  },
  "nbformat": 4,
  "nbformat_minor": 0
}