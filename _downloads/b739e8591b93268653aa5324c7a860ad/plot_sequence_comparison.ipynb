{
  "cells": [
    {
      "cell_type": "markdown",
      "metadata": {},
      "source": [
        "\n# Inspect difference of flanking sequence due to splice event\n\nGiven a PTM identified as having an altered flanking sequence in the alternative isoform and/or due to a splice event, it can be usefult o visualize how the sequences differ. We provide functions to compare the flanking sequences of PTMs based on whether an exonic region is included or excluded\n"
      ]
    },
    {
      "cell_type": "code",
      "execution_count": null,
      "metadata": {
        "collapsed": false
      },
      "outputs": [],
      "source": [
        "from ptm_pose import helpers\nfrom ptm_pose.analyze import flank_analysis as afs\n\n#load example altered flanking sequence data\naltered_flanks = helpers.load_example_data(altered_flanks = True)"
      ]
    },
    {
      "cell_type": "markdown",
      "metadata": {},
      "source": [
        "Let's say we have identified TSC2 S946 as a site that has an altered flanking sequence due to a skipped exon event, and we want to compare the flanking sequences of the inclusion and exclusion isoforms. First, grab the data for this PTM and print the sequences:\n\n"
      ]
    },
    {
      "cell_type": "code",
      "execution_count": null,
      "metadata": {
        "collapsed": false
      },
      "outputs": [],
      "source": [
        "tsc2_s946 = altered_flanks[(altered_flanks['Gene'] == 'TSC2') & (altered_flanks['PTM Position in Isoform'] == 946)].squeeze()\n\nprint(f'Inclusion Flanking Sequence: {tsc2_s946[\"Inclusion Flanking Sequence\"]}')\nprint(f'Exclusion Flanking Sequence: {tsc2_s946[\"Exclusion Flanking Sequence\"]}')"
      ]
    },
    {
      "cell_type": "markdown",
      "metadata": {},
      "source": [
        "This is useful, but is not the most interpretable. We can use the `show_sequence_differences` function to get a more interpretable view of the differences between the flanking sequences:\n\n"
      ]
    },
    {
      "cell_type": "code",
      "execution_count": null,
      "metadata": {
        "collapsed": false
      },
      "outputs": [],
      "source": [
        "afs.plot_sequence_differences(tsc2_s946['Inclusion Flanking Sequence'], tsc2_s946['Exclusion Flanking Sequence'], dpsi = tsc2_s946['dPSI'])"
      ]
    },
    {
      "cell_type": "markdown",
      "metadata": {},
      "source": [
        "By including the dPSI value, we can see which isoform sequence is more present in the treatment samples. This can be useful for understanding the potential impact of the altered flanking sequence on the PTM.\n\n"
      ]
    }
  ],
  "metadata": {
    "kernelspec": {
      "display_name": "Python 3",
      "language": "python",
      "name": "python3"
    },
    "language_info": {
      "codemirror_mode": {
        "name": "ipython",
        "version": 3
      },
      "file_extension": ".py",
      "mimetype": "text/x-python",
      "name": "python",
      "nbconvert_exporter": "python",
      "pygments_lexer": "ipython3",
      "version": "3.12.8"
    }
  },
  "nbformat": 4,
  "nbformat_minor": 0
}