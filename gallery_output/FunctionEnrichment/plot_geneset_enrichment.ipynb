{
 "cells": [
  {
   "cell_type": "markdown",
   "metadata": {},
   "source": [
    "\n",
    "# Identify enriched gene sets associated with differentially spliced PTMs\n",
    "\n",
    "As is commonly done for exon-centric analyses, we have provided the ability to perform gene set enrichment analysis for gene associated with spliced PTMs, using the EnrichR API from the gseapy module. By default, we include gene ontology terms, KEGG pathways, and Reactome pathways, but you can also provide your own gene sets listed in EnrichR.\n"
   ]
  },
  {
   "cell_type": "code",
   "execution_count": 1,
   "metadata": {
    "collapsed": false,
    "execution": {
     "iopub.execute_input": "2025-03-13T16:24:13.033669Z",
     "iopub.status.busy": "2025-03-13T16:24:13.033107Z",
     "iopub.status.idle": "2025-03-13T16:24:15.260467Z",
     "shell.execute_reply": "2025-03-13T16:24:15.259966Z"
    }
   },
   "outputs": [
    {
     "name": "stderr",
     "output_type": "stream",
     "text": [
      "/home/srcrowl/miniconda3/envs/pose_doc/lib/python3.12/site-packages/ptm_pose/pose_config.py:20: DtypeWarning: Columns (17) have mixed types. Specify dtype option on import or set low_memory=False.\n",
      "  ptm_coordinates = pd.read_csv(resource_dir + 'ptm_coordinates.csv', dtype = {'Chromosome/scaffold name': str, 'PTM Position in Isoform': int})\n"
     ]
    }
   ],
   "source": [
    "from ptm_pose import analyze, helpers\n",
    "\n",
    "\n",
    "# Load spliced ptm and altered flank data\n",
    "spliced_ptms, altered_flanks = helpers.load_example_data()"
   ]
  },
  {
   "cell_type": "markdown",
   "metadata": {},
   "source": [
    "Use the below function, we can identify enriched gene sets associated with spliced ptms, altered flanks, or both. We can also specify the gene sets to assess, alpha value for significance, the minimum change in PSI value to consider, and whether to return only significant gene sets.\n",
    "\n"
   ]
  },
  {
   "cell_type": "code",
   "execution_count": 2,
   "metadata": {
    "collapsed": false,
    "execution": {
     "iopub.execute_input": "2025-03-13T16:24:15.263259Z",
     "iopub.status.busy": "2025-03-13T16:24:15.262526Z",
     "iopub.status.idle": "2025-03-13T16:24:26.217154Z",
     "shell.execute_reply": "2025-03-13T16:24:26.216660Z"
    }
   },
   "outputs": [
    {
     "data": {
      "text/html": [
       "<div>\n",
       "<style scoped>\n",
       "    .dataframe tbody tr th:only-of-type {\n",
       "        vertical-align: middle;\n",
       "    }\n",
       "\n",
       "    .dataframe tbody tr th {\n",
       "        vertical-align: top;\n",
       "    }\n",
       "\n",
       "    .dataframe thead th {\n",
       "        text-align: right;\n",
       "    }\n",
       "</style>\n",
       "<table border=\"1\" class=\"dataframe\">\n",
       "  <thead>\n",
       "    <tr style=\"text-align: right;\">\n",
       "      <th></th>\n",
       "      <th>Gene_set</th>\n",
       "      <th>Term</th>\n",
       "      <th>Overlap</th>\n",
       "      <th>P-value</th>\n",
       "      <th>Adjusted P-value</th>\n",
       "      <th>Old P-value</th>\n",
       "      <th>Old Adjusted P-value</th>\n",
       "      <th>Odds Ratio</th>\n",
       "      <th>Combined Score</th>\n",
       "      <th>Genes</th>\n",
       "      <th>Type</th>\n",
       "      <th>Genes with Differentially Included PTMs only</th>\n",
       "      <th>Genes with PTM with Altered Flanking Sequence only</th>\n",
       "      <th>Genes with Both</th>\n",
       "    </tr>\n",
       "  </thead>\n",
       "  <tbody>\n",
       "    <tr>\n",
       "      <th>0</th>\n",
       "      <td>GO_Biological_Process_2023</td>\n",
       "      <td>Regulation Of Neurogenesis (GO:0050767)</td>\n",
       "      <td>5/67</td>\n",
       "      <td>0.000008</td>\n",
       "      <td>0.007117</td>\n",
       "      <td>0</td>\n",
       "      <td>0</td>\n",
       "      <td>21.070671</td>\n",
       "      <td>248.290556</td>\n",
       "      <td>YAP1;APLP2;DOCK7;NUMB;NF2</td>\n",
       "      <td>Differentially Included + Altered Flanking Seq...</td>\n",
       "      <td>YAP1</td>\n",
       "      <td>NF2</td>\n",
       "      <td>DOCK7;NUMB;APLP2</td>\n",
       "    </tr>\n",
       "    <tr>\n",
       "      <th>1</th>\n",
       "      <td>GO_Biological_Process_2023</td>\n",
       "      <td>Protein Localization To Cell-Cell Junction (GO...</td>\n",
       "      <td>3/15</td>\n",
       "      <td>0.000028</td>\n",
       "      <td>0.013115</td>\n",
       "      <td>0</td>\n",
       "      <td>0</td>\n",
       "      <td>63.804487</td>\n",
       "      <td>668.624524</td>\n",
       "      <td>TJP1;LSR;SCRIB</td>\n",
       "      <td>Differentially Included + Altered Flanking Seq...</td>\n",
       "      <td></td>\n",
       "      <td>LSR</td>\n",
       "      <td>TJP1;SCRIB</td>\n",
       "    </tr>\n",
       "    <tr>\n",
       "      <th>2</th>\n",
       "      <td>GO_Biological_Process_2023</td>\n",
       "      <td>Axon Development (GO:0061564)</td>\n",
       "      <td>5/99</td>\n",
       "      <td>0.000051</td>\n",
       "      <td>0.015012</td>\n",
       "      <td>0</td>\n",
       "      <td>0</td>\n",
       "      <td>13.875280</td>\n",
       "      <td>137.122909</td>\n",
       "      <td>APLP2;DOCK7;BAIAP2;FGFR2;MARK2</td>\n",
       "      <td>Differentially Included + Altered Flanking Seq...</td>\n",
       "      <td>FGFR2</td>\n",
       "      <td>BAIAP2</td>\n",
       "      <td>DOCK7;MARK2;APLP2</td>\n",
       "    </tr>\n",
       "    <tr>\n",
       "      <th>3</th>\n",
       "      <td>GO_Biological_Process_2023</td>\n",
       "      <td>Regulation Of Cell Migration (GO:0030334)</td>\n",
       "      <td>9/434</td>\n",
       "      <td>0.000064</td>\n",
       "      <td>0.015012</td>\n",
       "      <td>0</td>\n",
       "      <td>0</td>\n",
       "      <td>5.733529</td>\n",
       "      <td>55.334438</td>\n",
       "      <td>TJP1;CEACAM1;CSF1;ADAM15;LIMCH1;APLP2;NUMB;ITG...</td>\n",
       "      <td>Differentially Included + Altered Flanking Seq...</td>\n",
       "      <td>CSF1;ITGA6</td>\n",
       "      <td>NF2</td>\n",
       "      <td>NUMB;APLP2;CEACAM1;LIMCH1;ADAM15;TJP1</td>\n",
       "    </tr>\n",
       "    <tr>\n",
       "      <th>4</th>\n",
       "      <td>GO_Biological_Process_2023</td>\n",
       "      <td>Regulation Of Cell-Matrix Adhesion (GO:0001952)</td>\n",
       "      <td>4/65</td>\n",
       "      <td>0.000140</td>\n",
       "      <td>0.025836</td>\n",
       "      <td>0</td>\n",
       "      <td>0</td>\n",
       "      <td>16.911220</td>\n",
       "      <td>150.057893</td>\n",
       "      <td>CSF1;ADAM15;LIMCH1;NF2</td>\n",
       "      <td>Differentially Included + Altered Flanking Seq...</td>\n",
       "      <td>CSF1</td>\n",
       "      <td>NF2</td>\n",
       "      <td>LIMCH1;ADAM15</td>\n",
       "    </tr>\n",
       "  </tbody>\n",
       "</table>\n",
       "</div>"
      ],
      "text/plain": [
       "                     Gene_set  \\\n",
       "0  GO_Biological_Process_2023   \n",
       "1  GO_Biological_Process_2023   \n",
       "2  GO_Biological_Process_2023   \n",
       "3  GO_Biological_Process_2023   \n",
       "4  GO_Biological_Process_2023   \n",
       "\n",
       "                                                Term Overlap   P-value  \\\n",
       "0            Regulation Of Neurogenesis (GO:0050767)    5/67  0.000008   \n",
       "1  Protein Localization To Cell-Cell Junction (GO...    3/15  0.000028   \n",
       "2                      Axon Development (GO:0061564)    5/99  0.000051   \n",
       "3          Regulation Of Cell Migration (GO:0030334)   9/434  0.000064   \n",
       "4    Regulation Of Cell-Matrix Adhesion (GO:0001952)    4/65  0.000140   \n",
       "\n",
       "   Adjusted P-value  Old P-value  Old Adjusted P-value  Odds Ratio  \\\n",
       "0          0.007117            0                     0   21.070671   \n",
       "1          0.013115            0                     0   63.804487   \n",
       "2          0.015012            0                     0   13.875280   \n",
       "3          0.015012            0                     0    5.733529   \n",
       "4          0.025836            0                     0   16.911220   \n",
       "\n",
       "   Combined Score                                              Genes  \\\n",
       "0      248.290556                          YAP1;APLP2;DOCK7;NUMB;NF2   \n",
       "1      668.624524                                     TJP1;LSR;SCRIB   \n",
       "2      137.122909                     APLP2;DOCK7;BAIAP2;FGFR2;MARK2   \n",
       "3       55.334438  TJP1;CEACAM1;CSF1;ADAM15;LIMCH1;APLP2;NUMB;ITG...   \n",
       "4      150.057893                             CSF1;ADAM15;LIMCH1;NF2   \n",
       "\n",
       "                                                Type  \\\n",
       "0  Differentially Included + Altered Flanking Seq...   \n",
       "1  Differentially Included + Altered Flanking Seq...   \n",
       "2  Differentially Included + Altered Flanking Seq...   \n",
       "3  Differentially Included + Altered Flanking Seq...   \n",
       "4  Differentially Included + Altered Flanking Seq...   \n",
       "\n",
       "  Genes with Differentially Included PTMs only  \\\n",
       "0                                         YAP1   \n",
       "1                                                \n",
       "2                                        FGFR2   \n",
       "3                                   CSF1;ITGA6   \n",
       "4                                         CSF1   \n",
       "\n",
       "  Genes with PTM with Altered Flanking Sequence only  \\\n",
       "0                                                NF2   \n",
       "1                                                LSR   \n",
       "2                                             BAIAP2   \n",
       "3                                                NF2   \n",
       "4                                                NF2   \n",
       "\n",
       "                         Genes with Both  \n",
       "0                       DOCK7;NUMB;APLP2  \n",
       "1                             TJP1;SCRIB  \n",
       "2                      DOCK7;MARK2;APLP2  \n",
       "3  NUMB;APLP2;CEACAM1;LIMCH1;ADAM15;TJP1  \n",
       "4                          LIMCH1;ADAM15  "
      ]
     },
     "execution_count": 2,
     "metadata": {},
     "output_type": "execute_result"
    }
   ],
   "source": [
    "genesets = analyze.gene_set_enrichment(spliced_ptms, altered_flanks, alpha = 0.05, min_dPSI = 0.1, gene_sets = ['GO_Biological_Process_2023','Reactome_2022'], return_sig_only = True)\n",
    "genesets.head()"
   ]
  },
  {
   "cell_type": "markdown",
   "metadata": {},
   "source": [
    "You can then plot the enriched gene sets, including the proportion of genes associated with differentially included PTMs and those with altered flanking sequences. Here, let's restrict to looking at the top 5 enriched gene sets:\n",
    "\n"
   ]
  },
  {
   "cell_type": "code",
   "execution_count": 3,
   "metadata": {
    "collapsed": false,
    "execution": {
     "iopub.execute_input": "2025-03-13T16:24:26.219703Z",
     "iopub.status.busy": "2025-03-13T16:24:26.219570Z",
     "iopub.status.idle": "2025-03-13T16:24:26.311349Z",
     "shell.execute_reply": "2025-03-13T16:24:26.310627Z"
    }
   },
   "outputs": [
    {
     "data": {
      "image/png": "[encoded data removed]",
      "text/plain": [
       "<Figure size 200x150 with 1 Axes>"
      ]
     },
     "metadata": {},
     "output_type": "display_data"
    }
   ],
   "source": [
    "from ptm_pose import plots as pose_plots\n",
    "\n",
    "pose_plots.plot_EnrichR_pies(genesets, top_terms = 5)"
   ]
  }
 ],
 "metadata": {
  "kernelspec": {
   "display_name": "Python 3",
   "language": "python",
   "name": "python3"
  },
  "language_info": {
   "codemirror_mode": {
    "name": "ipython",
    "version": 3
   },
   "file_extension": ".py",
   "mimetype": "text/x-python",
   "name": "python",
   "nbconvert_exporter": "python",
   "pygments_lexer": "ipython3",
   "version": "3.12.8"
  }
 },
 "nbformat": 4,
 "nbformat_minor": 0
}
