{
 "cells": [
  {
   "cell_type": "markdown",
   "metadata": {},
   "source": [
    "\n",
    "# Identify protein interactions that may be impacted by splicing of PTMs\n",
    "\n",
    "Post translational modifications (PTMs) often facilitate protein interactions, either through direct binding of domains specific to that particular modification (e.g. SH2 domains binding to phosphorylated tyrosines) or through allosteric effects that change the conformation of the protein to either enhance or disrupt interactions. We provide functions to annotate spliced PTMs with relevant protein interactions and to identify key PTMs that may disrupt protein interaction networks.\n",
    "\n",
    "Currently, we provide functions to process and analyze protein interaction data from PhosphoSitePlus, PTMInt, and PTMcode. We can also include enzyme-specific interactions (such as kinase substrate interactions through PhosphoSitePlus and RegPhos). First, we need to annotate the spliced PTMs with protein interactions (see rest of documentation for how to do this). Then, we can process the interactions across the different databases using the protein_interactions class to identify key PTMs that may disrupt protein interaction networks.\n"
   ]
  },
  {
   "cell_type": "code",
   "execution_count": 1,
   "metadata": {
    "collapsed": false,
    "execution": {
     "iopub.execute_input": "2025-03-13T16:29:35.386724Z",
     "iopub.status.busy": "2025-03-13T16:29:35.386411Z",
     "iopub.status.idle": "2025-03-13T16:29:38.232615Z",
     "shell.execute_reply": "2025-03-13T16:29:38.231937Z"
    }
   },
   "outputs": [
    {
     "name": "stderr",
     "output_type": "stream",
     "text": [
      "/home/srcrowl/miniconda3/envs/pose_doc/lib/python3.12/site-packages/ptm_pose/pose_config.py:20: DtypeWarning: Columns (17) have mixed types. Specify dtype option on import or set low_memory=False.\n",
      "  ptm_coordinates = pd.read_csv(resource_dir + 'ptm_coordinates.csv', dtype = {'Chromosome/scaffold name': str, 'PTM Position in Isoform': int})\n"
     ]
    },
    {
     "name": "stdout",
     "output_type": "stream",
     "text": [
      "PhosphoSitePlus regulatory site data found and added\n",
      "Combined kinase-substrate data found and added\n",
      "PTMcode data found and added\n"
     ]
    },
    {
     "name": "stdout",
     "output_type": "stream",
     "text": [
      "PTMInt data found and added\n",
      "ELM data found and added\n"
     ]
    },
    {
     "data": {
      "text/html": [
       "<div>\n",
       "<style scoped>\n",
       "    .dataframe tbody tr th:only-of-type {\n",
       "        vertical-align: middle;\n",
       "    }\n",
       "\n",
       "    .dataframe tbody tr th {\n",
       "        vertical-align: top;\n",
       "    }\n",
       "\n",
       "    .dataframe thead th {\n",
       "        text-align: right;\n",
       "    }\n",
       "</style>\n",
       "<table border=\"1\" class=\"dataframe\">\n",
       "  <thead>\n",
       "    <tr style=\"text-align: right;\">\n",
       "      <th></th>\n",
       "      <th>Modified Gene</th>\n",
       "      <th>Interacting Gene</th>\n",
       "      <th>Residue</th>\n",
       "      <th>Type</th>\n",
       "      <th>Source</th>\n",
       "      <th>dPSI</th>\n",
       "      <th>Regulation Change</th>\n",
       "    </tr>\n",
       "  </thead>\n",
       "  <tbody>\n",
       "    <tr>\n",
       "      <th>0</th>\n",
       "      <td>ABI1</td>\n",
       "      <td>ABL1</td>\n",
       "      <td>S361</td>\n",
       "      <td>INDUCES</td>\n",
       "      <td>PTMcode</td>\n",
       "      <td>0.213</td>\n",
       "      <td>+</td>\n",
       "    </tr>\n",
       "    <tr>\n",
       "      <th>1</th>\n",
       "      <td>ABI1</td>\n",
       "      <td>BAIAP2</td>\n",
       "      <td>S361</td>\n",
       "      <td>INDUCES</td>\n",
       "      <td>PTMcode</td>\n",
       "      <td>0.213</td>\n",
       "      <td>+</td>\n",
       "    </tr>\n",
       "    <tr>\n",
       "      <th>2</th>\n",
       "      <td>ABI1</td>\n",
       "      <td>CYFIP2</td>\n",
       "      <td>S361</td>\n",
       "      <td>INDUCES</td>\n",
       "      <td>PTMcode</td>\n",
       "      <td>0.213</td>\n",
       "      <td>+</td>\n",
       "    </tr>\n",
       "    <tr>\n",
       "      <th>3</th>\n",
       "      <td>ABI1</td>\n",
       "      <td>EPS8</td>\n",
       "      <td>S361</td>\n",
       "      <td>INDUCES</td>\n",
       "      <td>PTMcode</td>\n",
       "      <td>0.213</td>\n",
       "      <td>+</td>\n",
       "    </tr>\n",
       "    <tr>\n",
       "      <th>4</th>\n",
       "      <td>ABI1</td>\n",
       "      <td>EPS8L1</td>\n",
       "      <td>S361</td>\n",
       "      <td>INDUCES</td>\n",
       "      <td>PTMcode</td>\n",
       "      <td>0.213</td>\n",
       "      <td>+</td>\n",
       "    </tr>\n",
       "  </tbody>\n",
       "</table>\n",
       "</div>"
      ],
      "text/plain": [
       "  Modified Gene Interacting Gene Residue     Type   Source   dPSI  \\\n",
       "0          ABI1             ABL1    S361  INDUCES  PTMcode  0.213   \n",
       "1          ABI1           BAIAP2    S361  INDUCES  PTMcode  0.213   \n",
       "2          ABI1           CYFIP2    S361  INDUCES  PTMcode  0.213   \n",
       "3          ABI1             EPS8    S361  INDUCES  PTMcode  0.213   \n",
       "4          ABI1           EPS8L1    S361  INDUCES  PTMcode  0.213   \n",
       "\n",
       "  Regulation Change  \n",
       "0                 +  \n",
       "1                 +  \n",
       "2                 +  \n",
       "3                 +  \n",
       "4                 +  "
      ]
     },
     "execution_count": 1,
     "metadata": {},
     "output_type": "execute_result"
    }
   ],
   "source": [
    "from ptm_pose import analyze, helpers\n",
    "\n",
    "\n",
    "#load example differential inclusion data\n",
    "spliced_ptms = helpers.load_example_data(altered_flanks = False)\n",
    "\n",
    "interactions = analyze.protein_interactions(spliced_ptms)\n",
    "interactions.get_interaction_network()\n",
    "\n",
    "interactions.network_data.head()"
   ]
  },
  {
   "cell_type": "markdown",
   "metadata": {},
   "source": [
    "We can also calculate interaction stats to identify proteins that are most impacted or relevant to spliced PTMs and the protein interaction network\n",
    "\n"
   ]
  },
  {
   "cell_type": "code",
   "execution_count": 2,
   "metadata": {
    "collapsed": false,
    "execution": {
     "iopub.execute_input": "2025-03-13T16:29:38.234547Z",
     "iopub.status.busy": "2025-03-13T16:29:38.234299Z",
     "iopub.status.idle": "2025-03-13T16:29:38.256795Z",
     "shell.execute_reply": "2025-03-13T16:29:38.256301Z"
    }
   },
   "outputs": [
    {
     "data": {
      "text/html": [
       "<div>\n",
       "<style scoped>\n",
       "    .dataframe tbody tr th:only-of-type {\n",
       "        vertical-align: middle;\n",
       "    }\n",
       "\n",
       "    .dataframe tbody tr th {\n",
       "        vertical-align: top;\n",
       "    }\n",
       "\n",
       "    .dataframe thead th {\n",
       "        text-align: right;\n",
       "    }\n",
       "</style>\n",
       "<table border=\"1\" class=\"dataframe\">\n",
       "  <thead>\n",
       "    <tr style=\"text-align: right;\">\n",
       "      <th></th>\n",
       "      <th>Degree</th>\n",
       "      <th>Degree Centrality</th>\n",
       "      <th>Closeness</th>\n",
       "      <th>Betweenness</th>\n",
       "    </tr>\n",
       "  </thead>\n",
       "  <tbody>\n",
       "    <tr>\n",
       "      <th>ABI1</th>\n",
       "      <td>18</td>\n",
       "      <td>0.118421</td>\n",
       "      <td>0.214569</td>\n",
       "      <td>0.230725</td>\n",
       "    </tr>\n",
       "    <tr>\n",
       "      <th>ABL1</th>\n",
       "      <td>3</td>\n",
       "      <td>0.019737</td>\n",
       "      <td>0.175506</td>\n",
       "      <td>0.094109</td>\n",
       "    </tr>\n",
       "    <tr>\n",
       "      <th>BAIAP2</th>\n",
       "      <td>2</td>\n",
       "      <td>0.013158</td>\n",
       "      <td>0.165332</td>\n",
       "      <td>0.000000</td>\n",
       "    </tr>\n",
       "    <tr>\n",
       "      <th>CYFIP2</th>\n",
       "      <td>1</td>\n",
       "      <td>0.006579</td>\n",
       "      <td>0.162970</td>\n",
       "      <td>0.000000</td>\n",
       "    </tr>\n",
       "    <tr>\n",
       "      <th>EPS8</th>\n",
       "      <td>1</td>\n",
       "      <td>0.006579</td>\n",
       "      <td>0.162970</td>\n",
       "      <td>0.000000</td>\n",
       "    </tr>\n",
       "  </tbody>\n",
       "</table>\n",
       "</div>"
      ],
      "text/plain": [
       "        Degree  Degree Centrality  Closeness  Betweenness\n",
       "ABI1        18           0.118421   0.214569     0.230725\n",
       "ABL1         3           0.019737   0.175506     0.094109\n",
       "BAIAP2       2           0.013158   0.165332     0.000000\n",
       "CYFIP2       1           0.006579   0.162970     0.000000\n",
       "EPS8         1           0.006579   0.162970     0.000000"
      ]
     },
     "execution_count": 2,
     "metadata": {},
     "output_type": "execute_result"
    }
   ],
   "source": [
    "interactions.get_interaction_stats()\n",
    "\n",
    "interactions.network_stats.head()"
   ]
  },
  {
   "cell_type": "markdown",
   "metadata": {},
   "source": [
    "If we want to focus on a specific protein, we can summarize information about a single protein in the network. In this case, let's look at TSC2, which loses pS981 upon ESRP1 knockdown\n",
    "\n"
   ]
  },
  {
   "cell_type": "code",
   "execution_count": 3,
   "metadata": {
    "collapsed": false,
    "execution": {
     "iopub.execute_input": "2025-03-13T16:29:38.258390Z",
     "iopub.status.busy": "2025-03-13T16:29:38.258117Z",
     "iopub.status.idle": "2025-03-13T16:29:38.267454Z",
     "shell.execute_reply": "2025-03-13T16:29:38.266803Z"
    }
   },
   "outputs": [
    {
     "name": "stdout",
     "output_type": "stream",
     "text": [
      "Decreased interaction likelihoods: AKT1, YWHAE, YWHAZ\n",
      "Number of interactions: 3 (Rank: 17)\n",
      "Centrality measures - \t Degree = 0.019736842105263157 (Rank: 17)\n",
      "                      \t Betweenness = 0.00026141512722202857 (Rank: 27)\n",
      "                      \t Closeness = 0.019736842105263157 (Rank: 123)\n"
     ]
    }
   ],
   "source": [
    "interactions.summarize_protein_network(protein = 'TSC2')"
   ]
  },
  {
   "cell_type": "markdown",
   "metadata": {},
   "source": [
    "We can also visualize the network...\n",
    "\n"
   ]
  },
  {
   "cell_type": "code",
   "execution_count": 4,
   "metadata": {
    "collapsed": false,
    "execution": {
     "iopub.execute_input": "2025-03-13T16:29:38.269101Z",
     "iopub.status.busy": "2025-03-13T16:29:38.268858Z",
     "iopub.status.idle": "2025-03-13T16:29:38.508231Z",
     "shell.execute_reply": "2025-03-13T16:29:38.507413Z"
    }
   },
   "outputs": [
    {
     "data": {
      "image/png": "[encoded data removed]",
      "text/plain": [
       "<Figure size 400x400 with 1 Axes>"
      ]
     },
     "metadata": {},
     "output_type": "display_data"
    }
   ],
   "source": [
    "interactions.plot_interaction_network(interacting_node_size = 10)"
   ]
  },
  {
   "cell_type": "markdown",
   "metadata": {},
   "source": [
    "...and the centrality of proteins in the network\n",
    "\n"
   ]
  },
  {
   "cell_type": "code",
   "execution_count": 5,
   "metadata": {
    "collapsed": false,
    "execution": {
     "iopub.execute_input": "2025-03-13T16:29:38.510020Z",
     "iopub.status.busy": "2025-03-13T16:29:38.509842Z",
     "iopub.status.idle": "2025-03-13T16:29:38.572021Z",
     "shell.execute_reply": "2025-03-13T16:29:38.571376Z"
    }
   },
   "outputs": [
    {
     "data": {
      "image/png": "[encoded data removed]",
      "text/plain": [
       "<Figure size 300x300 with 1 Axes>"
      ]
     },
     "metadata": {},
     "output_type": "display_data"
    }
   ],
   "source": [
    "interactions.plot_network_centrality(centrality_measure='Degree')"
   ]
  }
 ],
 "metadata": {
  "kernelspec": {
   "display_name": "Python 3",
   "language": "python",
   "name": "python3"
  },
  "language_info": {
   "codemirror_mode": {
    "name": "ipython",
    "version": 3
   },
   "file_extension": ".py",
   "mimetype": "text/x-python",
   "name": "python",
   "nbconvert_exporter": "python",
   "pygments_lexer": "ipython3",
   "version": "3.12.8"
  }
 },
 "nbformat": 4,
 "nbformat_minor": 0
}
