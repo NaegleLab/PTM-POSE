{
 "cells": [
  {
   "cell_type": "markdown",
   "metadata": {},
   "source": [
    "\n",
    "# Identify kinases with enriched substrates in differentially included exons, using an adapted version of KSTAR\n",
    "\n",
    "Given that phosphorlaiton are one of the most commonly impacted modifications, there is potential for kinases targeting these sites to be indirectly impacted by alternative splicing through changes in the availability of their substrates. While we provide functions for performing enrichment of known kinase substrates from databases like PhosphoSitePlus, RegPhos, and PTMsigDB, these resources are limited by the overall number of validated substrates (<5%). For this purpose, we have adapted a previously developed algorithm called KSTAR (Kinase Substrate to Activity Relationships) for use with spliced PTM data, which harnesses kinase-substrate predictions to expand the overall number of phosphorylation sites that can be used as evidence. This particularly important as you may find many of the spliced PTMs in your dataset are less well studied and may not have any annotated kinases.\n",
    "\n",
    "<div class=\"alert alert-info\"><h4>Note</h4><p>In order to perform KSTAR analysis, you will first need to download KSTAR networks from the following [figshare](https://figshare.com/articles/dataset/NETWORKS/14944305?file=28768155).\n",
    "\n",
    "    Once you have downloaded the networks, all you need is your PTM splicing data and the directory location of the networks to run the analysis.</p></div>\n"
   ]
  },
  {
   "cell_type": "code",
   "execution_count": 1,
   "metadata": {
    "collapsed": false,
    "execution": {
     "iopub.execute_input": "2025-03-13T16:24:31.109862Z",
     "iopub.status.busy": "2025-03-13T16:24:31.109627Z",
     "iopub.status.idle": "2025-03-13T16:24:58.278317Z",
     "shell.execute_reply": "2025-03-13T16:24:58.277567Z"
    }
   },
   "outputs": [
    {
     "name": "stderr",
     "output_type": "stream",
     "text": [
      "/home/srcrowl/miniconda3/envs/pose_doc/lib/python3.12/site-packages/ptm_pose/pose_config.py:20: DtypeWarning: Columns (17) have mixed types. Specify dtype option on import or set low_memory=False.\n",
      "  ptm_coordinates = pd.read_csv(resource_dir + 'ptm_coordinates.csv', dtype = {'Chromosome/scaffold name': str, 'PTM Position in Isoform': int})\n"
     ]
    },
    {
     "data": {
      "text/plain": [
       "{'Y': array(['CSF1R', 'ERBB2', 'FYN', 'LCK', 'HCK'], dtype=object)}"
      ]
     },
     "execution_count": 1,
     "metadata": {},
     "output_type": "execute_result"
    }
   ],
   "source": [
    "from ptm_pose import analyze, helpers\n",
    "\n",
    "\n",
    "#load example differential inclusion data\n",
    "spliced_ptms = helpers.load_example_data(altered_flanks = False)\n",
    "\n",
    "#perform kstar enrichment for tyrosine phosphorylation, denoted by \"Y\"\n",
    "network_dir = '../../Gallery/NetworKIN/'\n",
    "kstar_enrichment = analyze.kstar_enrichment(spliced_ptms, network_dir = network_dir, phospho_type = 'Y')\n",
    "kstar_enrichment.run_kstar_enrichment()\n",
    "kstar_enrichment.return_enriched_kinases()"
   ]
  },
  {
   "cell_type": "markdown",
   "metadata": {},
   "source": [
    "You can also run the same analysis for serine/threonine kinases:\n",
    "\n"
   ]
  },
  {
   "cell_type": "code",
   "execution_count": 2,
   "metadata": {
    "collapsed": false,
    "execution": {
     "iopub.execute_input": "2025-03-13T16:24:58.280693Z",
     "iopub.status.busy": "2025-03-13T16:24:58.280512Z",
     "iopub.status.idle": "2025-03-13T16:29:33.108917Z",
     "shell.execute_reply": "2025-03-13T16:29:33.108202Z"
    }
   },
   "outputs": [
    {
     "data": {
      "text/plain": [
       "{'ST': array(['PRKG2', 'MAPK14', 'PRKCH', 'PRKCG', 'PRKD1', 'PRKCE', 'ROCK1',\n",
       "        'TTK'], dtype=object)}"
      ]
     },
     "execution_count": 2,
     "metadata": {},
     "output_type": "execute_result"
    }
   ],
   "source": [
    "kstar_enrichment = analyze.kstar_enrichment(spliced_ptms, network_dir = network_dir, phospho_type = 'ST')\n",
    "kstar_enrichment.run_kstar_enrichment()\n",
    "kstar_enrichment.return_enriched_kinases()"
   ]
  }
 ],
 "metadata": {
  "kernelspec": {
   "display_name": "Python 3",
   "language": "python",
   "name": "python3"
  },
  "language_info": {
   "codemirror_mode": {
    "name": "ipython",
    "version": 3
   },
   "file_extension": ".py",
   "mimetype": "text/x-python",
   "name": "python",
   "nbconvert_exporter": "python",
   "pygments_lexer": "ipython3",
   "version": "3.12.8"
  }
 },
 "nbformat": 4,
 "nbformat_minor": 0
}
