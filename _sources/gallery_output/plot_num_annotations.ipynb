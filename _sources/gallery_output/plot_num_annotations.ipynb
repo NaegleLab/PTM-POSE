{
  "cells": [
    {
      "cell_type": "markdown",
      "metadata": {},
      "source": [
        "\n# Inspecting number of PTMs with annotation information available\n\nAs described in Running PTM-POSE section, PTM-POSE provides various options for annotating functional information for PTMs, coming from various databases. However, PTM functional information is inherently sparse, and so most annotations will only provide information on a handful of PTMs. For this reason, it can be useful to probe how many PTMsTo better understand the types of annotations that are available, as well as the number of PTMs that have an annotation of that type. This can be done using the `analyze` function in PTM-POSE.\n\nNote: This examples assumes that you have already run the PTM-POSE pipeline and have at annotated PTMs with at least one layer of information.\n"
      ]
    },
    {
      "cell_type": "code",
      "execution_count": null,
      "metadata": {
        "collapsed": false
      },
      "outputs": [],
      "source": [
        "from ptm_pose import analyze\nfrom ptm_pose import plots as pose_plots\nimport pandas as pd\n\n# Load spliced ptm and altered flank data\nspliced_ptms = pd.read_csv('spliced_ptms.csv')\naltered_flanks = pd.read_csv('altered_flanks.csv')\n\npose_plots.show_available_annotations(spliced_ptms)"
      ]
    },
    {
      "cell_type": "markdown",
      "metadata": {},
      "source": [
        "As you can, see there are only a few PTMs from each annotation that have \navailable information, with the most being 9 PTMs out of the 184 differentially \nincluded sites having been associated with a biological process. While this this \nshould be taken into consideration when analyzing these annotations, we can glean \nsome useful information and identify potentially interesting proteins/sites to dig \ndeeper into. Let's look at the PTMs that have been associated with a biological\nprocess: \n\n"
      ]
    },
    {
      "cell_type": "code",
      "execution_count": null,
      "metadata": {
        "collapsed": false
      },
      "outputs": [],
      "source": [
        "ptms_with_annotation, annotation_counts = analyze.get_ptm_annotations(spliced_ptms, database = \"PhosphoSitePlus\", annotation_type = 'Process')\nprint('Specific PTMs with annotation:')\nptms_with_annotation"
      ]
    },
    {
      "cell_type": "markdown",
      "metadata": {},
      "source": [
        "We can also look at the number of PTMs associated with each annotation:\n\n"
      ]
    },
    {
      "cell_type": "code",
      "execution_count": null,
      "metadata": {
        "collapsed": false
      },
      "outputs": [],
      "source": [
        "print('Number of PTMs associated with each annotation:')\nannotation_counts"
      ]
    }
  ],
  "metadata": {
    "kernelspec": {
      "display_name": "Python 3",
      "language": "python",
      "name": "python3"
    },
    "language_info": {
      "codemirror_mode": {
        "name": "ipython",
        "version": 3
      },
      "file_extension": ".py",
      "mimetype": "text/x-python",
      "name": "python",
      "nbconvert_exporter": "python",
      "pygments_lexer": "ipython3",
      "version": "3.12.8"
    }
  },
  "nbformat": 4,
  "nbformat_minor": 0
}