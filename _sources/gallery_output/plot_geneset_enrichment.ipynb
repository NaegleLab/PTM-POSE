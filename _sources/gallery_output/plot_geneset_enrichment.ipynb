{
  "cells": [
    {
      "cell_type": "markdown",
      "metadata": {},
      "source": [
        "\n# Identify enriched gene sets associated with differentially spliced PTMs\n\nAs is commonly done for exon-centric analyses, we have provided the ability to perform gene set enrichment analysis for gene associated with spliced PTMs, using the EnrichR API from the gseapy module. By default, we include gene ontology terms, KEGG pathways, and Reactome pathways, but you can also provide your own gene sets listed in EnrichR.\n"
      ]
    },
    {
      "cell_type": "code",
      "execution_count": null,
      "metadata": {
        "collapsed": false
      },
      "outputs": [],
      "source": [
        "from ptm_pose import analyze\nimport pandas as pd\n\n# Load spliced ptm and altered flank data\nspliced_ptms = pd.read_csv('spliced_ptms.csv')\naltered_flanks = pd.read_csv('altered_flanks.csv')"
      ]
    },
    {
      "cell_type": "markdown",
      "metadata": {},
      "source": [
        "Use the below function, we can identify enriched gene sets associated with spliced ptms, altered flanks, or both. We can also specify the alpha value for significance, the minimum change in PSI value to consider, and whether to return only significant gene sets. Lastly (not shown here), we can also provide a background dataframe that contains all spliced PTMs measured. Otherwise it will just use the entire genome, which may inflate certain PTM-centric gene sets (cell signaling pathways, for example).\n\n"
      ]
    },
    {
      "cell_type": "code",
      "execution_count": null,
      "metadata": {
        "collapsed": false
      },
      "outputs": [],
      "source": [
        "genesets = analyze.gene_set_enrichment(spliced_ptms, altered_flanks, alpha = 0.05, min_dPSI = 0.1, return_sig_only = True)\ngenesets.head()"
      ]
    },
    {
      "cell_type": "markdown",
      "metadata": {},
      "source": [
        "You can then plot the enriched gene sets, including the proportion of genes associated with differentially included PTMs and those with altered flanking sequences. Here, let's restrict to looking at the top 5 enriched gene sets:\n\n"
      ]
    },
    {
      "cell_type": "code",
      "execution_count": null,
      "metadata": {
        "collapsed": false
      },
      "outputs": [],
      "source": [
        "from ptm_pose import plots as pose_plots\n\npose_plots.plot_EnrichR_pies(genesets, top_terms = 5)"
      ]
    }
  ],
  "metadata": {
    "kernelspec": {
      "display_name": "Python 3",
      "language": "python",
      "name": "python3"
    },
    "language_info": {
      "codemirror_mode": {
        "name": "ipython",
        "version": 3
      },
      "file_extension": ".py",
      "mimetype": "text/x-python",
      "name": "python",
      "nbconvert_exporter": "python",
      "pygments_lexer": "ipython3",
      "version": "3.12.8"
    }
  },
  "nbformat": 4,
  "nbformat_minor": 0
}