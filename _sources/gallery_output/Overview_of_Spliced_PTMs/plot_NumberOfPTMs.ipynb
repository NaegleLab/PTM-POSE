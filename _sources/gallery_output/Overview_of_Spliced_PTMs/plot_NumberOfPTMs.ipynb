{
  "cells": [
    {
      "cell_type": "markdown",
      "metadata": {},
      "source": [
        "\n# Inspecting types of PTMs impacted by splicing\n\nOne of the first things you will want to do when analyzing spliced PTMs is to check how many and what type of PTMs were identified as being differentially included or altered due to splicing events. This can be done easily using the plotting module in PTM-POSE.\n"
      ]
    },
    {
      "cell_type": "code",
      "execution_count": null,
      "metadata": {
        "collapsed": false
      },
      "outputs": [],
      "source": [
        "from ptm_pose import helpers\nfrom ptm_pose import plots as pose_plots\n\n\n#load example differential inclusion and altered flank data\nspliced_ptms, altered_flanks = helpers.load_example_data()\n\npose_plots.modification_breakdown(spliced_ptms = spliced_ptms, altered_flanks = altered_flanks)"
      ]
    }
  ],
  "metadata": {
    "kernelspec": {
      "display_name": "Python 3",
      "language": "python",
      "name": "python3"
    },
    "language_info": {
      "codemirror_mode": {
        "name": "ipython",
        "version": 3
      },
      "file_extension": ".py",
      "mimetype": "text/x-python",
      "name": "python",
      "nbconvert_exporter": "python",
      "pygments_lexer": "ipython3",
      "version": "3.12.8"
    }
  },
  "nbformat": 4,
  "nbformat_minor": 0
}