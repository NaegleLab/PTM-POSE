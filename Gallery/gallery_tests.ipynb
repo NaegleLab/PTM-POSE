{
 "cells": [
  {
   "cell_type": "markdown",
   "metadata": {},
   "source": [
    "# Gallery Tests"
   ]
  },
  {
   "cell_type": "markdown",
   "metadata": {},
   "source": [
    "## Inspecting number of PTMs with annotation information available"
   ]
  },
  {
   "cell_type": "code",
   "execution_count": 1,
   "metadata": {},
   "outputs": [
    {
     "name": "stdout",
     "output_type": "stream",
     "text": [
      "Some annotations in spliced ptms dataframe not found in altered flanks dataframe. These annotations will be ignored. To avoid this, make sure to add annotations to both dataframes, or annotate the combined dataframe.\n"
     ]
    }
   ],
   "source": [
    "\n",
    "from ptm_pose import analyze\n",
    "import pandas as pd\n",
    "\n",
    "# Load spliced ptm and altered flank data\n",
    "spliced_ptms = pd.read_csv('spliced_ptms.csv')\n",
    "altered_flanks = pd.read_csv('altered_flanks.csv')\n",
    "combined_output = analyze.combine_outputs(spliced_ptms, altered_flanks)"
   ]
  },
  {
   "cell_type": "code",
   "execution_count": 3,
   "metadata": {},
   "outputs": [
    {
     "ename": "AttributeError",
     "evalue": "module 'ptm_pose.analyze' has no attribute 'show_available_annotations'",
     "output_type": "error",
     "traceback": [
      "\u001b[1;31m---------------------------------------------------------------------------\u001b[0m",
      "\u001b[1;31mAttributeError\u001b[0m                            Traceback (most recent call last)",
      "Cell \u001b[1;32mIn[3], line 3\u001b[0m\n\u001b[0;32m      1\u001b[0m \u001b[38;5;28;01mfrom\u001b[39;00m \u001b[38;5;21;01mptm_pose\u001b[39;00m \u001b[38;5;28;01mimport\u001b[39;00m plots \u001b[38;5;28;01mas\u001b[39;00m pose_plots\n\u001b[1;32m----> 3\u001b[0m \u001b[43manalyze\u001b[49m\u001b[38;5;241;43m.\u001b[39;49m\u001b[43mshow_available_annotations\u001b[49m()\n",
      "\u001b[1;31mAttributeError\u001b[0m: module 'ptm_pose.analyze' has no attribute 'show_available_annotations'"
     ]
    }
   ],
   "source": [
    "analyze.show_available_annotations(spliced_ptms)"
   ]
  },
  {
   "cell_type": "code",
   "execution_count": null,
   "metadata": {},
   "outputs": [],
   "source": [
    "ptms_with_annotation, annotation_counts = analyze.get_ptm_annotations(spliced_ptms, database = \"PhosphoSitePlus\", annotation_type = 'Process')\n",
    "print('Specific PTMs with annotation:')\n",
    "ptms_with_annotation"
   ]
  },
  {
   "cell_type": "code",
   "execution_count": null,
   "metadata": {},
   "outputs": [],
   "source": [
    "print('Number of PTMs associated with each annotation:')\n",
    "annotation_counts"
   ]
  }
 ],
 "metadata": {
  "kernelspec": {
   "display_name": "pose",
   "language": "python",
   "name": "python3"
  },
  "language_info": {
   "codemirror_mode": {
    "name": "ipython",
    "version": 3
   },
   "file_extension": ".py",
   "mimetype": "text/x-python",
   "name": "python",
   "nbconvert_exporter": "python",
   "pygments_lexer": "ipython3",
   "version": "3.12.3"
  }
 },
 "nbformat": 4,
 "nbformat_minor": 2
}
