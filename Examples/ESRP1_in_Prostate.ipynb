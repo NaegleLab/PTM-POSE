{
 "cells": [
  {
   "cell_type": "markdown",
   "metadata": {},
   "source": [
    "# Exploring the role of ESRP1 expression in prostate cancer\n",
    "\n",
    "In this notebook, we will explore the role of ESRP1 expression in prostate cancer, where it is commonly amplified and correlated with worsened prognosis. We will obtain splicing quantification across the TCGA-PRAD cohort using data from [TCGASpliceSeq](https://bioinformatics.mdanderson.org/TCGASpliceSeq/), and project PTMs onto the splice events that were identified by SpliceSeq. We will then explore the various ways ESRP1 expression may drive changes through changes to PTM inclusion and flanking sequences. The analysis here is similar to Figures 4 and 5 of our [manuscript](https://www.biorxiv.org/content/10.1101/2024.01.10.575062v2)\n",
    "\n",
    "This notebook is divided into the following sections:\n",
    "1. Load ESRP1 expression data from [CBioPortal](https://www.cbioportal.org/)\n",
    "2. Project PTMs onto splice events and identify events that are correlated with ESRP1 expression\n",
    "3. Explore the functional consequence of ESRP1-correlated PTMs"
   ]
  },
  {
   "cell_type": "markdown",
   "metadata": {},
   "source": [
    "## Project PTMs onto splice events and identify events that are correlated with ESRP1 expression\n",
    "\n",
    "First, we want to identify PTMs associated with the SpliceSeq splicegraph. Luckily for us, there is a built in function within PTM-POSE that allows us to easily project PTMs onto the splice events from TCGASpliceSeq. Once the event data is downloaded, we can run the following code to process the data. This assumes that spliceseq is running in hg19 coordinates (TCGASpliceSeq data is)."
   ]
  },
  {
   "cell_type": "code",
   "execution_count": null,
   "metadata": {},
   "outputs": [
    {
     "name": "stdout",
     "output_type": "stream",
     "text": [
      "Removing ME events from analysis\n",
      "Projecting PTMs onto SpliceSeq data\n"
     ]
    },
    {
     "name": "stderr",
     "output_type": "stream",
     "text": [
      "Projecting PTMs onto splice events using hg19 coordinates.: 100%|██████████| 62861/62861 [34:18<00:00, 30.54it/s]\n"
     ]
    },
    {
     "name": "stdout",
     "output_type": "stream",
     "text": [
      "PTMs projection successful (76363 identified).\n",
      "\n"
     ]
    }
   ],
   "source": [
    "from ptm_pose import project\n",
    "import pandas as pd\n",
    "\n",
    "#load data from TCGASpliceSeq\n",
    "psi_data = pd.read_csv('./TCGA_data/PSI_download_PRAD.txt', sep = '\\t')\n",
    "psi_data.index = psi_data['GeneSymbol']\n",
    "splicegraph = pd.read_csv('./TCGA_data/TCGASpliceData.txt', sep = '\\t')\n",
    "\n",
    "#identifying TCGA columns containing patient PSI data\n",
    "patient_columns = [col for col in psi_data.columns if 'TCGA' in col]\n",
    "\n",
    "psi_data, spliced_ptms = project.project_ptms_onto_SpliceSeq(psi_data, splicegraph = splicegraph, extra_cols = patient_columns)"
   ]
  },
  {
   "cell_type": "code",
   "execution_count": null,
   "metadata": {},
   "outputs": [],
   "source": [
    "psi_data.to_csv('./TCGA_data/annotated_PSI_data.csv', index = False)\n",
    "spliced_ptms.to_csv('./TCGA_data/TCGA_spliced_PTMs.csv', index = False)"
   ]
  },
  {
   "cell_type": "markdown",
   "metadata": {},
   "source": [
    "## Identify ESRP1-related splice events\n",
    "\n",
    "In order to understand PTMs that are related to ESRP1 expression, we first need to identify which splice events impact PTMs are related to ESRP1 expression. This is not directly a part of PTM-POSE, but provides a nice example of how you can pair analysis of the original splicing data to those of PTM-POSE. Note, we are focusing on ESRP1 expression here, but we could easily do this for any other protein of interest.\n",
    "\n",
    "### Load ESRP1 expression data from CBioPortal\n",
    "\n",
    "While this is not a part of PTM-POSE, in order to explore the role of ESRP1 expression in prostate cancer, we first need to know which patients are express high or low levels of ESRP1. We can do this directly through [CBioPortal's API](https://docs.cbioportal.org/web-api-and-clients/) (which requires the bravado python package). Alternatively, you can choose to download the data from the [CBioPortal website](https://www.cbioportal.org/), and upload it here."
   ]
  },
  {
   "cell_type": "code",
   "execution_count": 30,
   "metadata": {},
   "outputs": [],
   "source": [
    "from bravado.client import SwaggerClient\n",
    "import pandas as pd\n",
    "\n",
    "#initialize swagger client\n",
    "cbioportal = SwaggerClient.from_url('https://www.cbioportal.org/api/v2/api-docs',\n",
    "                            config={\"validate_requests\":False,\"validate_responses\":False,\"validate_swagger_spec\": False})\n",
    "\n",
    "for a in dir(cbioportal):\n",
    "    cbioportal.__setattr__(a.replace(' ', '_').lower(), cbioportal.__getattr__(a))\n",
    "\n",
    "# ESRP1 Entrez Gene ID = 54845\n",
    "gene_id = 54845\n",
    "\n",
    "#download rna sequencing data for ESRP1\n",
    "study_id = 'prad_tcga_pan_can_atlas_2018'\n",
    "expression_data = cbioportal.Molecular_Data.getAllMolecularDataInMolecularProfileUsingGET(molecularProfileId = study_id + '_rna_seq_v2_mrna',\n",
    "                                                                    sampleListId = study_id + '_all', entrezGeneId = gene_id).result()\n",
    "#extract expression data and normalize by z-score\n",
    "sample_id = [samp.sampleId for samp in expression_data]\n",
    "rsem = [samp.value for samp in expression_data]\n",
    "rsem = pd.Series(rsem, index = sample_id)\n",
    "rsem_zscore = (rsem - rsem.mean())/rsem.std()\n",
    "\n",
    "#extract high and low patients (absolute z-score > 1)\n",
    "high_patients = rsem_zscore[rsem_zscore > 1].index\n",
    "low_patients = rsem_zscore[rsem_zscore < -1].index\n",
    "\n",
    "#edit patient ids to match splice seq data (change - to _ and remove sample name)\n",
    "high_patients = [p.replace('-', '_')[0:-3] for p in high_patients]\n",
    "low_patients = [p.replace('-', '_')[:-3] for p in low_patients]"
   ]
  },
  {
   "cell_type": "markdown",
   "metadata": {},
   "source": [
    "### Identify ESRP1-related splice events \n",
    "\n",
    "With patients with high and low ESRP1 expression, we can compare PSI values for these two groups and identify which events/exons are significantly different in inclusion levels across the two groups. We will use a Mann Whitney U test here to compare the groups and then correct p-values using Benjamini and Hochberg FDR correction. PTM-POSE offers some stats functions to perform this comparison in the stat_utils module (built on top of scipy.stats):"
   ]
  },
  {
   "cell_type": "code",
   "execution_count": 34,
   "metadata": {},
   "outputs": [
    {
     "name": "stderr",
     "output_type": "stream",
     "text": [
      "Comparing PSI for ESRP1-high and low groups: 100%|██████████| 62861/62861 [03:08<00:00, 332.94it/s]\n"
     ]
    }
   ],
   "source": [
    "from ptm_pose import stat_utils as pose_stats\n",
    "from tqdm import tqdm\n",
    "import numpy as np\n",
    "import pandas as pd\n",
    "\n",
    "\n",
    "#identifying TCGA columns containing patient PSI data\n",
    "patient_columns = [col for col in psi_data.columns if 'TCGA' in col]\n",
    "\n",
    "# Hold indexes of PSI data where values are statistically significant + if mean is higher than other group place it in that group. \n",
    "direction = [] \n",
    "p_list = []\n",
    "effect_list =[]\n",
    "delta_PSI_list = []\n",
    "for index, row in tqdm(psi_data.iterrows(), total = psi_data.shape[0], desc = 'Comparing PSI for ESRP1-high and low groups'):\n",
    "    #grab PSI data for high and low groups\n",
    "    high_sample = psi_data.loc[index, high_patients].values\n",
    "    high_sample = list(high_sample[~pd.isnull(high_sample)])\n",
    "    low_sample = psi_data.loc[index, low_patients].values\n",
    "    low_sample = list(low_sample[~pd.isnull(low_sample)])\n",
    "    #if each sample has at least 3 data points, compare the groups\n",
    "    if len(low_sample) >= 3 and len(high_sample) >= 3:\n",
    "        p_value, effect_size = pose_stats.calculateMW_EffectSize(high_sample, low_sample)\n",
    "    else:\n",
    "        p_value = np.nan\n",
    "        effect_size = np.nan\n",
    "    p_list.append(p_value)\n",
    "    effect_list.append(effect_size)\n",
    "    \n",
    "    #if statistical test occurred and p-value was obtained, extract the change in PSI and direction\n",
    "    delta_PSI = np.mean(high_sample) - np.mean(low_sample)\n",
    "    if p_value != p_value:\n",
    "        direction.append(np.nan)\n",
    "    else:\n",
    "        delta_PSI = np.mean(high_sample) - np.mean(low_sample)\n",
    "        if delta_PSI > 0:\n",
    "            direction.append('High')\n",
    "        else: \n",
    "            direction.append('Low')\n",
    "        delta_PSI_list.append(delta_PSI)\n",
    "        \n",
    "psi_data['Direction'] = direction\n",
    "psi_data['p'] = p_list\n",
    "psi_data['Effect Size'] = effect_list\n",
    "psi_data['dPSI'] = delta_PSI_list\n",
    "\n",
    "#get Benjamini-Hochberg adjusted p-value\n",
    "psi_data = psi_data.sort_values(by = 'p', ascending = True)\n",
    "psi_data['p-adj'] = pose_stats.adjustP(psi_data['p'].values)"
   ]
  },
  {
   "cell_type": "code",
   "execution_count": 19,
   "metadata": {},
   "outputs": [],
   "source": [
    "psi_data.to_csv('./TCGA_data/annotated_PSI_data.csv', index = False)"
   ]
  },
  {
   "cell_type": "markdown",
   "metadata": {},
   "source": [
    "### Add ESRP1 information to PTM data obtained from PTM-POSE\n",
    "\n",
    "With PTMs associated with SpliceSeq events and the events significantly related to ESRP1 expression, we can now identify which PTMs are most likely to be impacted by ESRP1 by extracting the PTMs projected onto the AS events identified in the original splicing data. In some cases, there may be multiple events that a single PTM can be impacted by, so we need to decide how we would like to handle these. Here (see last two lines of code), we decide to remove PTMs that have conflicting entries (one event suggests decrease of PTM, other suggests increase)."
   ]
  },
  {
   "cell_type": "code",
   "execution_count": 11,
   "metadata": {},
   "outputs": [
    {
     "name": "stderr",
     "output_type": "stream",
     "text": [
      "C:\\Users\\crowl\\AppData\\Local\\Temp\\ipykernel_37260\\1610173634.py:3: DtypeWarning: Columns (562) have mixed types. Specify dtype option on import or set low_memory=False.\n",
      "  psi_data = pd.read_csv('./TCGA_data/annotated_PSI_data.csv')\n"
     ]
    }
   ],
   "source": [
    "import pandas as pd\n",
    "\n",
    "psi_data = pd.read_csv('./TCGA_data/annotated_PSI_data.csv')\n",
    "spliced_ptms = pd.read_csv('./TCGA_data/TCGA_spliced_PTMs.csv')\n",
    "\n",
    "#set parameters for significance testing\n",
    "alpha = 0.05\n",
    "effect_size = 0.3\n",
    "min_psi_range = 0.25\n",
    "min_dpsi = 0.1\n",
    "\n",
    "#add signficance data to spliced_ptms data\n",
    "spliced_ptms = spliced_ptms.merge(psi_data[['as_id', 'psi_range', 'p-adj', 'Effect Size', 'dPSI', 'Direction']], left_on = 'Region ID', right_on = 'as_id')\n",
    "spliced_ptms['PTM'] = spliced_ptms['UniProtKB Accession'] + '_' + spliced_ptms['Residue'] + spliced_ptms['PTM Position in Isoform'].astype(int).astype(str)\n",
    "\n",
    "#identify events that are significant based on above cutoffs\n",
    "sig_alpha = spliced_ptms['p-adj'] < alpha\n",
    "sig_effect_size = spliced_ptms['Effect Size'] >= effect_size\n",
    "sig_psi_range = spliced_ptms['psi_range'] >= min_psi_range\n",
    "sig_dpsi = spliced_ptms['dPSI'].abs() >= min_dpsi\n",
    "sig_ptms = spliced_ptms[sig_alpha & sig_effect_size & sig_psi_range & sig_dpsi].copy()\n",
    "\n",
    "#remove PTMs that have conflicting entries (related to High in one entry and Low in another)\n",
    "sig_ptms = sig_ptms.drop_duplicates(subset = ['PTM', f'Direction'])\n",
    "sig_ptms = sig_ptms.drop_duplicates(subset = 'PTM', keep = False)"
   ]
  },
  {
   "cell_type": "markdown",
   "metadata": {},
   "source": [
    "## Functional consequence of ESRP1-correlated PTMs\n",
    "\n",
    "Now that we have PTMs related to ESRP1 expression in prostate cancer, we can start to probe what the functional implications of these changes may be. There are a few main types of analysis we can currently easily do with PTM-POSE:\n",
    "\n",
    "1. Functional enrichment tests, either as a function of the genes impacted or individual PTMs\n",
    "2. Protein interactions related to PTM sites\n",
    "3. Kinase-substrate relationships for phosphorylation sites"
   ]
  },
  {
   "cell_type": "markdown",
   "metadata": {},
   "source": [
    "### Gene Set Enrichment Analysis\n",
    "\n",
    "One thing we can do is use EnrichR web services to identify gene-specific functions of the genes with differentially included PTM sites. We use the gseapy package to do so. We can input to this function either differentially included PTMs, altered flanking sequences or both. We can also restrict to significant sites."
   ]
  },
  {
   "cell_type": "code",
   "execution_count": 12,
   "metadata": {},
   "outputs": [
    {
     "data": {
      "text/html": [
       "<div>\n",
       "<style scoped>\n",
       "    .dataframe tbody tr th:only-of-type {\n",
       "        vertical-align: middle;\n",
       "    }\n",
       "\n",
       "    .dataframe tbody tr th {\n",
       "        vertical-align: top;\n",
       "    }\n",
       "\n",
       "    .dataframe thead th {\n",
       "        text-align: right;\n",
       "    }\n",
       "</style>\n",
       "<table border=\"1\" class=\"dataframe\">\n",
       "  <thead>\n",
       "    <tr style=\"text-align: right;\">\n",
       "      <th></th>\n",
       "      <th>Gene_set</th>\n",
       "      <th>Term</th>\n",
       "      <th>Overlap</th>\n",
       "      <th>P-value</th>\n",
       "      <th>Adjusted P-value</th>\n",
       "      <th>Old P-value</th>\n",
       "      <th>Old Adjusted P-value</th>\n",
       "      <th>Odds Ratio</th>\n",
       "      <th>Combined Score</th>\n",
       "      <th>Genes</th>\n",
       "      <th>Type</th>\n",
       "      <th>Genes with Differentially Included PTMs only</th>\n",
       "      <th>Genes with PTM with Altered Flanking Sequence only</th>\n",
       "      <th>Genes with Both</th>\n",
       "    </tr>\n",
       "  </thead>\n",
       "  <tbody>\n",
       "    <tr>\n",
       "      <th>0</th>\n",
       "      <td>KEGG_2021_Human</td>\n",
       "      <td>Regulation of actin cytoskeleton</td>\n",
       "      <td>10/218</td>\n",
       "      <td>0.000396</td>\n",
       "      <td>0.030332</td>\n",
       "      <td>0</td>\n",
       "      <td>0</td>\n",
       "      <td>3.964825</td>\n",
       "      <td>31.056336</td>\n",
       "      <td>ENAH;CXCL12;ABI2;ITGB3;ARHGEF1;KRAS;ARHGEF7;CR...</td>\n",
       "      <td>Differentially Included</td>\n",
       "      <td>FGFR1;ENAH;ITGB3;ABI2;KRAS;CRK;VCL;CXCL12;ARHG...</td>\n",
       "      <td></td>\n",
       "      <td></td>\n",
       "    </tr>\n",
       "    <tr>\n",
       "      <th>1</th>\n",
       "      <td>KEGG_2021_Human</td>\n",
       "      <td>Human cytomegalovirus infection</td>\n",
       "      <td>10/225</td>\n",
       "      <td>0.000508</td>\n",
       "      <td>0.030332</td>\n",
       "      <td>0</td>\n",
       "      <td>0</td>\n",
       "      <td>3.834364</td>\n",
       "      <td>29.084133</td>\n",
       "      <td>ARHGEF11;PPP3CB;CXCL12;CASP8;RHEB;ITGB3;TSC2;A...</td>\n",
       "      <td>Differentially Included</td>\n",
       "      <td>ARHGEF11;ITGB3;RHEB;KRAS;CRK;CASP8;CXCL12;PPP3...</td>\n",
       "      <td></td>\n",
       "      <td></td>\n",
       "    </tr>\n",
       "    <tr>\n",
       "      <th>2</th>\n",
       "      <td>KEGG_2021_Human</td>\n",
       "      <td>mTOR signaling pathway</td>\n",
       "      <td>8/154</td>\n",
       "      <td>0.000670</td>\n",
       "      <td>0.030332</td>\n",
       "      <td>0</td>\n",
       "      <td>0</td>\n",
       "      <td>4.495214</td>\n",
       "      <td>32.850436</td>\n",
       "      <td>CLIP1;WNT2B;RHEB;RPS6KA2;DVL1;TSC2;KRAS;FNIP1</td>\n",
       "      <td>Differentially Included</td>\n",
       "      <td>WNT2B;DVL1;RHEB;FNIP1;KRAS;CLIP1;RPS6KA2;TSC2</td>\n",
       "      <td></td>\n",
       "      <td></td>\n",
       "    </tr>\n",
       "    <tr>\n",
       "      <th>3</th>\n",
       "      <td>KEGG_2021_Human</td>\n",
       "      <td>Cardiac muscle contraction</td>\n",
       "      <td>6/87</td>\n",
       "      <td>0.000732</td>\n",
       "      <td>0.030332</td>\n",
       "      <td>0</td>\n",
       "      <td>0</td>\n",
       "      <td>6.046412</td>\n",
       "      <td>43.654689</td>\n",
       "      <td>TPM4;TPM3;TPM2;TPM1;ATP2A2;COX7A2</td>\n",
       "      <td>Differentially Included</td>\n",
       "      <td>TPM3;COX7A2;TPM1;TPM4;TPM2;ATP2A2</td>\n",
       "      <td></td>\n",
       "      <td></td>\n",
       "    </tr>\n",
       "    <tr>\n",
       "      <th>4</th>\n",
       "      <td>KEGG_2021_Human</td>\n",
       "      <td>Calcium signaling pathway</td>\n",
       "      <td>10/240</td>\n",
       "      <td>0.000836</td>\n",
       "      <td>0.030332</td>\n",
       "      <td>0</td>\n",
       "      <td>0</td>\n",
       "      <td>3.581545</td>\n",
       "      <td>25.382673</td>\n",
       "      <td>PPP3CB;PDE1C;FLT4;TACR2;ATP2B4;ATP2A2;CASQ1;CA...</td>\n",
       "      <td>Differentially Included</td>\n",
       "      <td>FGFR1;ATP2B4;CASQ1;PDE1C;PLCD1;FLT4;CAMK2G;PPP...</td>\n",
       "      <td></td>\n",
       "      <td></td>\n",
       "    </tr>\n",
       "  </tbody>\n",
       "</table>\n",
       "</div>"
      ],
      "text/plain": [
       "          Gene_set                              Term Overlap   P-value  \\\n",
       "0  KEGG_2021_Human  Regulation of actin cytoskeleton  10/218  0.000396   \n",
       "1  KEGG_2021_Human   Human cytomegalovirus infection  10/225  0.000508   \n",
       "2  KEGG_2021_Human            mTOR signaling pathway   8/154  0.000670   \n",
       "3  KEGG_2021_Human        Cardiac muscle contraction    6/87  0.000732   \n",
       "4  KEGG_2021_Human         Calcium signaling pathway  10/240  0.000836   \n",
       "\n",
       "   Adjusted P-value  Old P-value  Old Adjusted P-value  Odds Ratio  \\\n",
       "0          0.030332            0                     0    3.964825   \n",
       "1          0.030332            0                     0    3.834364   \n",
       "2          0.030332            0                     0    4.495214   \n",
       "3          0.030332            0                     0    6.046412   \n",
       "4          0.030332            0                     0    3.581545   \n",
       "\n",
       "   Combined Score                                              Genes  \\\n",
       "0       31.056336  ENAH;CXCL12;ABI2;ITGB3;ARHGEF1;KRAS;ARHGEF7;CR...   \n",
       "1       29.084133  ARHGEF11;PPP3CB;CXCL12;CASP8;RHEB;ITGB3;TSC2;A...   \n",
       "2       32.850436      CLIP1;WNT2B;RHEB;RPS6KA2;DVL1;TSC2;KRAS;FNIP1   \n",
       "3       43.654689                  TPM4;TPM3;TPM2;TPM1;ATP2A2;COX7A2   \n",
       "4       25.382673  PPP3CB;PDE1C;FLT4;TACR2;ATP2B4;ATP2A2;CASQ1;CA...   \n",
       "\n",
       "                      Type       Genes with Differentially Included PTMs only  \\\n",
       "0  Differentially Included  FGFR1;ENAH;ITGB3;ABI2;KRAS;CRK;VCL;CXCL12;ARHG...   \n",
       "1  Differentially Included  ARHGEF11;ITGB3;RHEB;KRAS;CRK;CASP8;CXCL12;PPP3...   \n",
       "2  Differentially Included      WNT2B;DVL1;RHEB;FNIP1;KRAS;CLIP1;RPS6KA2;TSC2   \n",
       "3  Differentially Included                  TPM3;COX7A2;TPM1;TPM4;TPM2;ATP2A2   \n",
       "4  Differentially Included  FGFR1;ATP2B4;CASQ1;PDE1C;PLCD1;FLT4;CAMK2G;PPP...   \n",
       "\n",
       "  Genes with PTM with Altered Flanking Sequence only Genes with Both  \n",
       "0                                                                     \n",
       "1                                                                     \n",
       "2                                                                     \n",
       "3                                                                     \n",
       "4                                                                     "
      ]
     },
     "execution_count": 12,
     "metadata": {},
     "output_type": "execute_result"
    }
   ],
   "source": [
    "from ptm_pose import analyze\n",
    "\n",
    "gene_set_enrichment = analyze.gene_set_enrichment(spliced_ptms = sig_ptms, altered_flanks = None, combined = None, alpha = 0.05, sig_col = 'p-adj', gene_sets = ['KEGG_2021_Human', 'GO_Biological_Process_2023', 'GO_Cellular_Component_2023', 'GO_Molecular_Function_2023','Reactome_2022'], return_sig_only = True)\n",
    "\n",
    "gene_set_enrichment.head()"
   ]
  },
  {
   "cell_type": "code",
   "execution_count": 13,
   "metadata": {},
   "outputs": [
    {
     "data": {
      "image/png": "[encoded data removed]",
      "text/plain": [
       "<Figure size 200x300 with 1 Axes>"
      ]
     },
     "metadata": {},
     "output_type": "display_data"
    }
   ],
   "source": [
    "from ptm_pose import plots as pose_plots\n",
    "\n",
    "pose_plots.plot_EnrichR_pies(gene_set_enrichment, top_terms = 10)"
   ]
  },
  {
   "cell_type": "markdown",
   "metadata": {},
   "source": [
    "### Protein Interaction Network Analysis\n",
    "\n",
    "In addition to functional analysis, we can probe which PTMs may impact protein interactions using annotations from things like [PTMcode](https://ptmcode.embl.de/), [PhosphoSitePlus](https://www.phosphosite.org/homeAction.action), [PTMInt](https://ptmint.sjtu.edu.cn/), [ELM](http://elm.eu.org/).\n",
    "\n",
    "Here, let's focus on interactions annotated in PhosphoSitePlus and PTMcode. First we need to append this information to our spliced ptm data using the annotate module."
   ]
  },
  {
   "cell_type": "code",
   "execution_count": 14,
   "metadata": {},
   "outputs": [
    {
     "name": "stdout",
     "output_type": "stream",
     "text": [
      "PhosphoSitePlus regulatory_site information added:\n",
      "\t ->37 PTMs in dataset found associated with a molecular function \n",
      "\t ->31 PTMs in dataset found associated with a biological process\n",
      "\t ->24 PTMs in dataset found associated with a protein interaction\n",
      "PTMcode interprotein interactions added: 94 PTMs in dataset found with PTMcode interprotein interaction information\n",
      "\n",
      "Combining interaction data from multiple databases\n",
      "PTMcode data found and added\n",
      "PhosphoSitePlus regulatory site data found and added\n"
     ]
    }
   ],
   "source": [
    "#load ptmcode and phosphositeplus data\n",
    "ptmcode_file = '../../../../Database_Information/PTMcode/PTMcode2_associations_between_proteins.txt.gz'\n",
    "psp_file = '../../../../Database_Information/PhosphoSitePlus/Regulatory_sites.gz'\n",
    "\n",
    "#annotate\n",
    "from ptm_pose import annotate\n",
    "\n",
    "sig_ptms = annotate.annotate_ptms(sig_ptms, psp_regulatory_site_file = psp_file, PTMcode_interprotein=ptmcode_file)"
   ]
  },
  {
   "cell_type": "markdown",
   "metadata": {},
   "source": [
    "Next, we can use the protein_interactions class found in the analyze module to construct PTM-specific protein interaction networks, and analyze the properties of this network"
   ]
  },
  {
   "cell_type": "code",
   "execution_count": 16,
   "metadata": {},
   "outputs": [
    {
     "name": "stdout",
     "output_type": "stream",
     "text": [
      "PhosphoSitePlus regulatory site data found and added\n",
      "PTMcode data found and added\n"
     ]
    },
    {
     "data": {
      "image/png": "[encoded data removed]",
      "text/plain": [
       "<Figure size 400x400 with 1 Axes>"
      ]
     },
     "metadata": {},
     "output_type": "display_data"
    }
   ],
   "source": [
    "from ptm_pose import analyze\n",
    "\n",
    "prot_int = analyze.protein_interactions(sig_ptms, interaction_databases = ['PhosphoSitePlus', 'PTMcode'])\n",
    "prot_int.plot_interaction_network()"
   ]
  },
  {
   "cell_type": "markdown",
   "metadata": {},
   "source": [
    "We can look at the network statistics to identify the most impacted genes:"
   ]
  },
  {
   "cell_type": "code",
   "execution_count": 17,
   "metadata": {},
   "outputs": [
    {
     "data": {
      "image/png": "[encoded data removed]",
      "text/plain": [
       "<Figure size 300x300 with 1 Axes>"
      ]
     },
     "metadata": {},
     "output_type": "display_data"
    }
   ],
   "source": [
    "prot_int.plot_network_centrality()"
   ]
  },
  {
   "cell_type": "markdown",
   "metadata": {},
   "source": [
    "We can also probe the individual interactions by looking at the network data attribute"
   ]
  },
  {
   "cell_type": "code",
   "execution_count": 18,
   "metadata": {},
   "outputs": [
    {
     "data": {
      "text/html": [
       "<div>\n",
       "<style scoped>\n",
       "    .dataframe tbody tr th:only-of-type {\n",
       "        vertical-align: middle;\n",
       "    }\n",
       "\n",
       "    .dataframe tbody tr th {\n",
       "        vertical-align: top;\n",
       "    }\n",
       "\n",
       "    .dataframe thead th {\n",
       "        text-align: right;\n",
       "    }\n",
       "</style>\n",
       "<table border=\"1\" class=\"dataframe\">\n",
       "  <thead>\n",
       "    <tr style=\"text-align: right;\">\n",
       "      <th></th>\n",
       "      <th>Modified Gene</th>\n",
       "      <th>Interacting Gene</th>\n",
       "      <th>Residue</th>\n",
       "      <th>Type</th>\n",
       "      <th>Source</th>\n",
       "      <th>dPSI</th>\n",
       "      <th>Regulation Change</th>\n",
       "    </tr>\n",
       "  </thead>\n",
       "  <tbody>\n",
       "    <tr>\n",
       "      <th>0</th>\n",
       "      <td>ABI1</td>\n",
       "      <td>ABL1</td>\n",
       "      <td>T328;S323;S329;S327;S338;T324;T336;Y333;S361;S...</td>\n",
       "      <td>INDUCES</td>\n",
       "      <td>PTMcode</td>\n",
       "      <td>-0.1084118055555556</td>\n",
       "      <td>-</td>\n",
       "    </tr>\n",
       "    <tr>\n",
       "      <th>1</th>\n",
       "      <td>ABI1</td>\n",
       "      <td>BAIAP2</td>\n",
       "      <td>T328;S323;S329;S327;S338;T324;T336;Y333;S361;S...</td>\n",
       "      <td>INDUCES</td>\n",
       "      <td>PTMcode</td>\n",
       "      <td>-0.1084118055555556</td>\n",
       "      <td>-</td>\n",
       "    </tr>\n",
       "    <tr>\n",
       "      <th>2</th>\n",
       "      <td>ABI1</td>\n",
       "      <td>CRK</td>\n",
       "      <td>T328;S323;S329;S327;S338;T324;T336;Y333;S326;S...</td>\n",
       "      <td>INDUCES</td>\n",
       "      <td>PTMcode</td>\n",
       "      <td>-0.1084118055555556</td>\n",
       "      <td>-</td>\n",
       "    </tr>\n",
       "    <tr>\n",
       "      <th>3</th>\n",
       "      <td>ABI1</td>\n",
       "      <td>CYFIP2</td>\n",
       "      <td>T328;S323;S329;S327;S338;T324;T336;Y333;S361;S...</td>\n",
       "      <td>INDUCES</td>\n",
       "      <td>PTMcode</td>\n",
       "      <td>-0.1084118055555556</td>\n",
       "      <td>-</td>\n",
       "    </tr>\n",
       "    <tr>\n",
       "      <th>4</th>\n",
       "      <td>ABI1</td>\n",
       "      <td>ENAH</td>\n",
       "      <td>T328;S323;S329;S327;S338;T324;T336;Y333;S326;S...</td>\n",
       "      <td>INDUCES</td>\n",
       "      <td>PTMcode</td>\n",
       "      <td>-0.1084118055555556</td>\n",
       "      <td>-</td>\n",
       "    </tr>\n",
       "  </tbody>\n",
       "</table>\n",
       "</div>"
      ],
      "text/plain": [
       "  Modified Gene Interacting Gene  \\\n",
       "0          ABI1             ABL1   \n",
       "1          ABI1           BAIAP2   \n",
       "2          ABI1              CRK   \n",
       "3          ABI1           CYFIP2   \n",
       "4          ABI1             ENAH   \n",
       "\n",
       "                                             Residue     Type   Source  \\\n",
       "0  T328;S323;S329;S327;S338;T324;T336;Y333;S361;S...  INDUCES  PTMcode   \n",
       "1  T328;S323;S329;S327;S338;T324;T336;Y333;S361;S...  INDUCES  PTMcode   \n",
       "2  T328;S323;S329;S327;S338;T324;T336;Y333;S326;S...  INDUCES  PTMcode   \n",
       "3  T328;S323;S329;S327;S338;T324;T336;Y333;S361;S...  INDUCES  PTMcode   \n",
       "4  T328;S323;S329;S327;S338;T324;T336;Y333;S326;S...  INDUCES  PTMcode   \n",
       "\n",
       "                  dPSI Regulation Change  \n",
       "0  -0.1084118055555556                 -  \n",
       "1  -0.1084118055555556                 -  \n",
       "2  -0.1084118055555556                 -  \n",
       "3  -0.1084118055555556                 -  \n",
       "4  -0.1084118055555556                 -  "
      ]
     },
     "execution_count": 18,
     "metadata": {},
     "output_type": "execute_result"
    }
   ],
   "source": [
    "prot_int.network_data.head()"
   ]
  },
  {
   "cell_type": "markdown",
   "metadata": {},
   "source": [
    "## Kinases impacted by splicing\n",
    "\n",
    "In addition to general protein interactions, PTMs also allow us to probe how different protein isoforms may be regulated, and whether splicing induces coordinated changes for certain kinases.\n",
    "\n",
    "We can either do this using known annotated kinases from PhosphoSitePlus and RegPhos, or by using predicted kinase substrates from KSTAR/NetworKIN."
   ]
  },
  {
   "cell_type": "markdown",
   "metadata": {},
   "source": [
    "### Known kinase substrates \n",
    "\n",
    "To look at known kinase substrates, we need to download kinase substrate information from PhosphoSitePlus, then use the annotate module to append this information to our spliced ptms dataset."
   ]
  },
  {
   "cell_type": "code",
   "execution_count": 20,
   "metadata": {},
   "outputs": [
    {
     "name": "stdout",
     "output_type": "stream",
     "text": [
      "PhosphoSitePlus kinase-substrate interactions added: 40 phosphorylation sites in dataset found associated with a kinase in PhosphoSitePlus\n"
     ]
    }
   ],
   "source": [
    "psp_ks_file = '../../../../Database_Information/PhosphoSitePlus/Kinase_Substrate_Dataset.gz'\n",
    "\n",
    "sig_ptms = annotate.add_PSP_kinase_substrate_data(sig_ptms, psp_ks_file, report_success=True)"
   ]
  },
  {
   "cell_type": "markdown",
   "metadata": {},
   "source": [
    "We can then check which kinases are associated with the spliced phosphorylation sites either 1) visually:"
   ]
  },
  {
   "cell_type": "code",
   "execution_count": 22,
   "metadata": {},
   "outputs": [
    {
     "data": {
      "text/plain": [
       "<Axes: title={'center': 'PhosphoSitePlus'}, xlabel='Number of Phosphosites\\ntargeted by Kinase'>"
      ]
     },
     "execution_count": 22,
     "metadata": {},
     "output_type": "execute_result"
    },
    {
     "data": {
      "image/png": "[encoded data removed]",
      "text/plain": [
       "<Figure size 200x300 with 1 Axes>"
      ]
     },
     "metadata": {},
     "output_type": "display_data"
    }
   ],
   "source": [
    "from ptm_pose import plots as pose_plots\n",
    "\n",
    "pose_plots.plot_annotations(sig_ptms, database = \"PhosphoSitePlus\", annot_type = 'Kinase', top_terms = 10)"
   ]
  },
  {
   "cell_type": "markdown",
   "metadata": {},
   "source": [
    "Or directly by looking at sig_ptms dataframe:"
   ]
  },
  {
   "cell_type": "code",
   "execution_count": 27,
   "metadata": {},
   "outputs": [
    {
     "data": {
      "text/html": [
       "<div>\n",
       "<style scoped>\n",
       "    .dataframe tbody tr th:only-of-type {\n",
       "        vertical-align: middle;\n",
       "    }\n",
       "\n",
       "    .dataframe tbody tr th {\n",
       "        vertical-align: top;\n",
       "    }\n",
       "\n",
       "    .dataframe thead th {\n",
       "        text-align: right;\n",
       "    }\n",
       "</style>\n",
       "<table border=\"1\" class=\"dataframe\">\n",
       "  <thead>\n",
       "    <tr style=\"text-align: right;\">\n",
       "      <th></th>\n",
       "      <th>Gene</th>\n",
       "      <th>UniProtKB Accession</th>\n",
       "      <th>Residue</th>\n",
       "      <th>PTM Position in Isoform</th>\n",
       "      <th>Modification Class</th>\n",
       "      <th>PSP:Kinase</th>\n",
       "      <th>dPSI</th>\n",
       "      <th>Impact</th>\n",
       "    </tr>\n",
       "  </thead>\n",
       "  <tbody>\n",
       "    <tr>\n",
       "      <th>0</th>\n",
       "      <td>ARNT</td>\n",
       "      <td>P27540</td>\n",
       "      <td>S</td>\n",
       "      <td>77.0</td>\n",
       "      <td>Phosphorylation</td>\n",
       "      <td>CSNK2A1</td>\n",
       "      <td>-0.1279834975369457</td>\n",
       "      <td>Excluded</td>\n",
       "    </tr>\n",
       "    <tr>\n",
       "      <th>1</th>\n",
       "      <td>ATG16L1</td>\n",
       "      <td>Q676U5</td>\n",
       "      <td>S</td>\n",
       "      <td>278.0</td>\n",
       "      <td>Phosphorylation</td>\n",
       "      <td>ULK1;CHUK</td>\n",
       "      <td>-0.1566092165898618</td>\n",
       "      <td>Excluded</td>\n",
       "    </tr>\n",
       "    <tr>\n",
       "      <th>2</th>\n",
       "      <td>CLDN11</td>\n",
       "      <td>O75508</td>\n",
       "      <td>Y</td>\n",
       "      <td>191.0</td>\n",
       "      <td>Phosphorylation</td>\n",
       "      <td>PTK2</td>\n",
       "      <td>-0.2694419981060606</td>\n",
       "      <td>Excluded</td>\n",
       "    </tr>\n",
       "    <tr>\n",
       "      <th>3</th>\n",
       "      <td>CLDN11</td>\n",
       "      <td>O75508</td>\n",
       "      <td>Y</td>\n",
       "      <td>192.0</td>\n",
       "      <td>Phosphorylation</td>\n",
       "      <td>PTK2</td>\n",
       "      <td>-0.2694419981060606</td>\n",
       "      <td>Excluded</td>\n",
       "    </tr>\n",
       "    <tr>\n",
       "      <th>4</th>\n",
       "      <td>CRK</td>\n",
       "      <td>P46108</td>\n",
       "      <td>Y</td>\n",
       "      <td>221.0</td>\n",
       "      <td>Phosphorylation</td>\n",
       "      <td>ABL1;ABL2</td>\n",
       "      <td>-0.1128893353174602</td>\n",
       "      <td>Excluded</td>\n",
       "    </tr>\n",
       "  </tbody>\n",
       "</table>\n",
       "</div>"
      ],
      "text/plain": [
       "      Gene UniProtKB Accession Residue  PTM Position in Isoform  \\\n",
       "0     ARNT              P27540       S                     77.0   \n",
       "1  ATG16L1              Q676U5       S                    278.0   \n",
       "2   CLDN11              O75508       Y                    191.0   \n",
       "3   CLDN11              O75508       Y                    192.0   \n",
       "4      CRK              P46108       Y                    221.0   \n",
       "\n",
       "  Modification Class PSP:Kinase                 dPSI    Impact  \n",
       "0    Phosphorylation    CSNK2A1  -0.1279834975369457  Excluded  \n",
       "1    Phosphorylation  ULK1;CHUK  -0.1566092165898618  Excluded  \n",
       "2    Phosphorylation       PTK2  -0.2694419981060606  Excluded  \n",
       "3    Phosphorylation       PTK2  -0.2694419981060606  Excluded  \n",
       "4    Phosphorylation  ABL1;ABL2  -0.1128893353174602  Excluded  "
      ]
     },
     "execution_count": 27,
     "metadata": {},
     "output_type": "execute_result"
    }
   ],
   "source": [
    "from ptm_pose import analyze\n",
    "\n",
    "annotations, counts = analyze.get_ptm_annotations(sig_ptms, database = 'PhosphoSitePlus', annotation_type='Kinase')\n",
    "annotations.head()"
   ]
  },
  {
   "cell_type": "markdown",
   "metadata": {},
   "source": [
    "We can also perform enrichment on the annotations, although it is common for no enrichment to be found due to sparsity of data:"
   ]
  },
  {
   "cell_type": "code",
   "execution_count": 29,
   "metadata": {},
   "outputs": [
    {
     "name": "stdout",
     "output_type": "stream",
     "text": [
      "Using pregenerated background information on all PTMs in the proteome.\n"
     ]
    },
    {
     "data": {
      "text/html": [
       "<div>\n",
       "<style scoped>\n",
       "    .dataframe tbody tr th:only-of-type {\n",
       "        vertical-align: middle;\n",
       "    }\n",
       "\n",
       "    .dataframe tbody tr th {\n",
       "        vertical-align: top;\n",
       "    }\n",
       "\n",
       "    .dataframe thead th {\n",
       "        text-align: right;\n",
       "    }\n",
       "</style>\n",
       "<table border=\"1\" class=\"dataframe\">\n",
       "  <thead>\n",
       "    <tr style=\"text-align: right;\">\n",
       "      <th></th>\n",
       "      <th>Fraction Impacted</th>\n",
       "      <th>p-value</th>\n",
       "      <th>Adjusted p-value</th>\n",
       "      <th>PTM</th>\n",
       "    </tr>\n",
       "    <tr>\n",
       "      <th>PSP:Kinase</th>\n",
       "      <th></th>\n",
       "      <th></th>\n",
       "      <th></th>\n",
       "      <th></th>\n",
       "    </tr>\n",
       "  </thead>\n",
       "  <tbody>\n",
       "    <tr>\n",
       "      <th>SGK1</th>\n",
       "      <td>4/52</td>\n",
       "      <td>0.000071</td>\n",
       "      <td>0.001904</td>\n",
       "      <td>NEDD4L_S342;NEDD4L_S448;NEDD4L_T367;TSC2_S981</td>\n",
       "    </tr>\n",
       "    <tr>\n",
       "      <th>NEK2</th>\n",
       "      <td>3/36</td>\n",
       "      <td>0.000471</td>\n",
       "      <td>0.006361</td>\n",
       "      <td>NEK2_S397;NEK2_S402;NEK2_S428</td>\n",
       "    </tr>\n",
       "    <tr>\n",
       "      <th>PTK2</th>\n",
       "      <td>2/27</td>\n",
       "      <td>0.005732</td>\n",
       "      <td>0.051586</td>\n",
       "      <td>CLDN11_Y191;CLDN11_Y192</td>\n",
       "    </tr>\n",
       "    <tr>\n",
       "      <th>STK3</th>\n",
       "      <td>2/35</td>\n",
       "      <td>0.009504</td>\n",
       "      <td>0.064151</td>\n",
       "      <td>NEK2_S406;NEK2_S438</td>\n",
       "    </tr>\n",
       "    <tr>\n",
       "      <th>SRPK2</th>\n",
       "      <td>1/4</td>\n",
       "      <td>0.016636</td>\n",
       "      <td>0.089833</td>\n",
       "      <td>MAPT_S214</td>\n",
       "    </tr>\n",
       "  </tbody>\n",
       "</table>\n",
       "</div>"
      ],
      "text/plain": [
       "           Fraction Impacted   p-value  Adjusted p-value  \\\n",
       "PSP:Kinase                                                 \n",
       "SGK1                    4/52  0.000071          0.001904   \n",
       "NEK2                    3/36  0.000471          0.006361   \n",
       "PTK2                    2/27  0.005732          0.051586   \n",
       "STK3                    2/35  0.009504          0.064151   \n",
       "SRPK2                    1/4  0.016636          0.089833   \n",
       "\n",
       "                                                      PTM  \n",
       "PSP:Kinase                                                 \n",
       "SGK1        NEDD4L_S342;NEDD4L_S448;NEDD4L_T367;TSC2_S981  \n",
       "NEK2                        NEK2_S397;NEK2_S402;NEK2_S428  \n",
       "PTK2                              CLDN11_Y191;CLDN11_Y192  \n",
       "STK3                                  NEK2_S406;NEK2_S438  \n",
       "SRPK2                                           MAPT_S214  "
      ]
     },
     "execution_count": 29,
     "metadata": {},
     "output_type": "execute_result"
    }
   ],
   "source": [
    "from ptm_pose import analyze\n",
    "\n",
    "analyze.annotation_enrichment(sig_ptms, database = 'PhosphoSitePlus', annotation_type = 'Kinase').head()"
   ]
  },
  {
   "cell_type": "markdown",
   "metadata": {},
   "source": [
    "### Predicted differentially included kinase substrates\n",
    "\n",
    "To overcome limitations of sparse kinase-substrate information, we have also provided tools to perform kinase-substrate enrichment analysis using kinase-substrate predictions, based on an adapted version of a kinase activity algorithm ([KSTAR](https://www.nature.com/articles/s41467-022-32017-5))\n",
    "\n",
    "In order to run this, you need to download KSTAR networks from the [figshare here](https://figshare.com/articles/dataset/NETWORKS/14944305), and then point to the directory containing the network files."
   ]
  },
  {
   "cell_type": "code",
   "execution_count": 32,
   "metadata": {},
   "outputs": [
    {
     "data": {
      "text/plain": [
       "{'Y': array(['KDR', 'CSF1R'], dtype=object),\n",
       " 'ST': array(['ROCK1', 'CDK2', 'CAMK2B', 'PRKAA2', 'AURKA', 'SGK3', 'NEK2',\n",
       "        'PAK3', 'AKT3', 'AKT1', 'MAP2K6', 'RPS6KA3', 'PRKAA1', 'TLK2',\n",
       "        'PDK1', 'SGK2', 'CDK1', 'SGK1', 'MAP2K4', 'GSK3B', 'ROCK2',\n",
       "        'PRKCE', 'TGFBR2', 'GSK3A', 'GRK2', 'MAP2K7', 'MAPK7'],\n",
       "       dtype=object)}"
      ]
     },
     "execution_count": 32,
     "metadata": {},
     "output_type": "execute_result"
    }
   ],
   "source": [
    "#perform kstar enrichment for tyrosine phosphorylation, denoted by \"Y\"\n",
    "network_dir = './NetworKIN/'\n",
    "kstar_enrichment = analyze.kstar_enrichment(sig_ptms, network_dir = network_dir, phospho_type = ['Y', 'ST'])\n",
    "kstar_enrichment.run_kstar_enrichment()\n",
    "kstar_enrichment.return_enriched_kinases()"
   ]
  }
 ],
 "metadata": {
  "kernelspec": {
   "display_name": "splicing",
   "language": "python",
   "name": "python3"
  },
  "language_info": {
   "codemirror_mode": {
    "name": "ipython",
    "version": 3
   },
   "file_extension": ".py",
   "mimetype": "text/x-python",
   "name": "python",
   "nbconvert_exporter": "python",
   "pygments_lexer": "ipython3",
   "version": "3.12.8"
  }
 },
 "nbformat": 4,
 "nbformat_minor": 2
}
