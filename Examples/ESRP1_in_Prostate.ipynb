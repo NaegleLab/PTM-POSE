{
 "cells": [
  {
   "cell_type": "markdown",
   "metadata": {},
   "source": [
    "# Exploring the role of ESRP1 expression in prostate cancer\n",
    "\n",
    "In this notebook, we will explore the role of ESRP1 expression in prostate cancer, where it is commonly amplified and correlated with worsened prognosis. We will obtain splicing quantification across the TCGA-PRAD cohort using data from [TCGASpliceSeq](https://bioinformatics.mdanderson.org/TCGASpliceSeq/), and project PTMs onto the splice events that were identified by SpliceSeq. We will then explore the various ways ESRP1 expression may drive changes through changes to PTM inclusion and flanking sequences. The analysis here corresponds to Figures 4 and 5 of our [manuscript](https://www.biorxiv.org/content/10.1101/2024.01.10.575062v2)\n",
    "\n",
    "This notebook is divided into the following sections:\n",
    "1. Load ESRP1 expression data from [CBioPortal](https://www.cbioportal.org/)\n",
    "2. Project PTMs onto splice events and identify events that are correlated with ESRP1 expression\n",
    "3. Explore the functional consequence of ESRP1-correlated PTMs"
   ]
  },
  {
   "cell_type": "markdown",
   "metadata": {},
   "source": [
    "## Load ESRP1 expression data from CBioPortal\n",
    "\n",
    "While this is not a part of PTM-POSE, in order to explore the role of ESRP1 expression in prostate cancer, we first need to know which patients are express high or low levels of ESRP1. We can do this directly through [CBioPortal's API]() (which requires the bravado python package). Alternatively, you can choose to download the data from the [CBioPortal website](https://www.cbioportal.org/), and upload it here."
   ]
  },
  {
   "cell_type": "code",
   "execution_count": 1,
   "metadata": {},
   "outputs": [],
   "source": [
    "from bravado.client import SwaggerClient\n",
    "import pandas as pd\n",
    "\n",
    "#initialize swagger client\n",
    "cbioportal = SwaggerClient.from_url('https://www.cbioportal.org/api/v2/api-docs',\n",
    "                            config={\"validate_requests\":False,\"validate_responses\":False,\"validate_swagger_spec\": False})\n",
    "\n",
    "for a in dir(cbioportal):\n",
    "    cbioportal.__setattr__(a.replace(' ', '_').lower(), cbioportal.__getattr__(a))\n",
    "\n",
    "# ESRP1 Entrez Gene ID = 54845\n",
    "gene_id = 54845\n",
    "\n",
    "#download rna sequencing data for ESRP1\n",
    "study_id = 'prad_tcga_pan_can_atlas_2018'\n",
    "expression_data = cbioportal.Molecular_Data.getAllMolecularDataInMolecularProfileUsingGET(molecularProfileId = study_id + '_rna_seq_v2_mrna',\n",
    "                                                                    sampleListId = study_id + '_all', entrezGeneId = gene_id).result()\n",
    "#extract expression data and normalize by z-score\n",
    "sample_id = [samp.sampleId for samp in expression_data]\n",
    "rsem = [samp.value for samp in expression_data]\n",
    "rsem = pd.Series(rsem, index = sample_id)\n",
    "rsem_zscore = (rsem - rsem.mean())/rsem.std()\n",
    "\n",
    "#extract high and low patients (absolute z-score > 1)\n",
    "high_patients = rsem_zscore[rsem_zscore > 1].index\n",
    "low_patients = rsem_zscore[rsem_zscore < -1].index"
   ]
  },
  {
   "cell_type": "markdown",
   "metadata": {},
   "source": [
    "## Project PTMs onto splice events and identify events that are correlated with ESRP1 expression"
   ]
  },
  {
   "cell_type": "code",
   "execution_count": 14,
   "metadata": {},
   "outputs": [
    {
     "name": "stdout",
     "output_type": "stream",
     "text": [
      "Removing ME events from analysis\n",
      "Projecting PTMs onto SpliceSeq data\n"
     ]
    },
    {
     "name": "stderr",
     "output_type": "stream",
     "text": [
      "Projecting PTMs onto splice events using hg19 coordinates.: 100%|██████████| 62861/62861 [16:07:33<00:00,  1.08it/s]        \n"
     ]
    },
    {
     "name": "stdout",
     "output_type": "stream",
     "text": [
      "PTMs projection successful (76363 identified).\n",
      "\n"
     ]
    }
   ],
   "source": [
    "from ptm_pose import project\n",
    "import pandas as pd\n",
    "\n",
    "#load data from TCGASpliceSeq\n",
    "psi_data = pd.read_csv('../../../TCGA/Data/PRAD/TCGA_SpliceSeq/PSI_download_PRAD.txt', sep = '\\t')\n",
    "splicegraph = pd.read_csv('../../../TCGA/Data/TCGASpliceData.txt', sep = '\\t')\n",
    "\n",
    "#identifying TCGA columns containing patient PSI data\n",
    "patient_columns = [col for col in psi_data.columns if 'TCGA' in col]\n",
    "\n",
    "psi_data, spliced_ptms = project.project_ptms_onto_SpliceSeq(psi_data, splicegraph = splicegraph, extra_cols = patient_columns)"
   ]
  },
  {
   "cell_type": "markdown",
   "metadata": {},
   "source": [
    "## Functional consequence of ESRP1-correlated PTMs"
   ]
  },
  {
   "cell_type": "markdown",
   "metadata": {},
   "source": [
    "### Gene Set Enrichment Analysis"
   ]
  },
  {
   "cell_type": "markdown",
   "metadata": {},
   "source": [
    "### Exon Ontology Analysis"
   ]
  },
  {
   "cell_type": "markdown",
   "metadata": {},
   "source": [
    "### Protein Interaction Network Analysis"
   ]
  },
  {
   "cell_type": "markdown",
   "metadata": {},
   "source": [
    "### Flanking sequences that alter protein interactions"
   ]
  },
  {
   "cell_type": "markdown",
   "metadata": {},
   "source": [
    "## Kinases impacted by splicing"
   ]
  },
  {
   "cell_type": "markdown",
   "metadata": {},
   "source": [
    "### Known kinase substrates "
   ]
  },
  {
   "cell_type": "markdown",
   "metadata": {},
   "source": [
    "### Predicted differentially included kinase substrates"
   ]
  },
  {
   "cell_type": "markdown",
   "metadata": {},
   "source": [
    "### Altered kinase interactions by changed flanking sequences"
   ]
  },
  {
   "cell_type": "code",
   "execution_count": null,
   "metadata": {},
   "outputs": [],
   "source": []
  }
 ],
 "metadata": {
  "kernelspec": {
   "display_name": "pose",
   "language": "python",
   "name": "python3"
  },
  "language_info": {
   "codemirror_mode": {
    "name": "ipython",
    "version": 3
   },
   "file_extension": ".py",
   "mimetype": "text/x-python",
   "name": "python",
   "nbconvert_exporter": "python",
   "pygments_lexer": "ipython3",
   "version": "3.12.3"
  }
 },
 "nbformat": 4,
 "nbformat_minor": 2
}
